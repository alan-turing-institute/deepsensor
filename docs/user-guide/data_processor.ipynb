
{
 "cells": [
  {
   "cell_type": "markdown",
   "metadata": {},
   "source": [
    "# DataProcessor"
   ]
  },
  {
   "cell_type": "markdown",
   "metadata": {},
   "source": [
    "The first step in any modelling pipeline is to normalise and standardise the data.\n",
    "In DeepSensor, this is achieved with the [`DataProcessor` class](../reference/data/processor.rst).\n",
    "Let's load some environmental data from `deepsensor.data.sources` and see how it works!\n",
    "\n",
    "`````{note}\n",
    "Some of the data downloader functions used here require additional dependencies.\n",
    "To run this yourself you will need to run:\n",
    "```\n",
    "pip install rioxarray\n",
    "```\n",
    "to install the [`rioxarray`](https://corteva.github.io/rioxarray/stable/) package and\n",
    "```\n",
    "pip install git+https://github.com/scott-hosking/get-station-data.git\n",
    "```\n",
    "to install the [`get_station_data`](https://github.com/scotthosking/get-station-data) package.\n",
    "`````\n",
    "\n"
   ]
  },
  {
   "cell_type": "code",
   "execution_count": 1,
   "metadata": {
    "tags": [
     "hide-input"
    ],
    "ExecuteTime": {
     "end_time": "2023-11-01T11:14:37.083621355Z",
     "start_time": "2023-11-01T11:14:29.068342294Z"
    }
   },
   "outputs": [],
   "source": [
    "import logging\n",
    "logging.captureWarnings(True)\n",
    "\n",
    "import xarray as xr\n",
    "import pandas as pd\n",
    "\n",
    "# Using the same settings allows use to use pre-downloaded cached data\n",
    "data_range = (\"2015-06-25\", \"2015-06-30\")\n",
    "extent = \"europe\"\n",
    "station_var_IDs = [\"TAVG\", \"PRCP\"]\n",
    "era5_var_IDs = [\"2m_temperature\", \"10m_u_component_of_wind\", \"10m_v_component_of_wind\"]\n",
    "aux_var_IDs = [\"elevation\", \"tpi\"]\n",
    "cache_dir = \"../../.datacache\""
   ]
  },
  {
   "cell_type": "code",
   "execution_count": 2,
   "metadata": {
    "ExecuteTime": {
     "end_time": "2023-11-01T11:14:53.344717607Z",
     "start_time": "2023-11-01T11:14:37.092450287Z"
    }
   },
   "outputs": [],
   "source": [
    "from deepsensor.data import DataProcessor\n",
    "from deepsensor.data.sources import get_ghcnd_station_data, get_era5_reanalysis_data, get_earthenv_auxiliary_data, get_gldas_land_mask"
   ]
  },
  {
   "cell_type": "code",
   "execution_count": 3,
   "metadata": {
    "ExecuteTime": {
     "end_time": "2023-11-01T11:20:00.282202579Z",
     "start_time": "2023-11-01T11:14:53.343417440Z"
    }
   },
   "outputs": [
    {
     "name": "stderr",
     "output_type": "stream",
     "text": [
      "100%|████████████████████████████████████████████████████████████████| 3142/3142 [02:42<00:00, 19.33it/s]\n"
     ]
    }
   ],
   "source": [
    "station_raw_df = get_ghcnd_station_data(station_var_IDs, extent, date_range=data_range, cache=True, cache_dir=cache_dir)\n",
    "era5_raw_ds = get_era5_reanalysis_data(era5_var_IDs, extent, date_range=data_range, cache=True, cache_dir=cache_dir)\n",
    "aux_raw_ds = get_earthenv_auxiliary_data(aux_var_IDs, extent, \"1KM\", cache=True, cache_dir=cache_dir)\n",
    "land_mask_raw_ds = get_gldas_land_mask(extent, cache=True, cache_dir=cache_dir)"
   ]
  },
  {
   "cell_type": "markdown",
   "source": [
    "## Initialising a DataProcessor\n",
    "\n",
    "To initialise a `DataProcessor` object, provide it with the names of the spatiotemporal dimensions in your data (defaults to `time`, `x1`, `x2`)."
   ],
   "metadata": {
    "collapsed": false
   }
  },
  {
   "cell_type": "code",
   "execution_count": 4,
   "metadata": {
    "ExecuteTime": {
     "end_time": "2023-11-01T11:20:00.335969686Z",
     "start_time": "2023-11-01T11:20:00.335336410Z"
    }
   },
   "outputs": [
    {
     "name": "stdout",
     "output_type": "stream",
     "text": [
      "DataProcessor with normalisation params:\n",
      "{'coords': {'time': {'name': 'time'},\n",
      "            'x1': {'map': None, 'name': 'lat'},\n",
      "            'x2': {'map': None, 'name': 'lon'}}}\n"
     ]
    }
   ],
   "source": [
    "data_processor = DataProcessor(x1_name=\"lat\", x2_name=\"lon\")\n",
    "print(data_processor)"
   ]
  },
  {
   "cell_type": "markdown",
   "source": [
    "## Normalising data with a DataProcessor\n",
    "\n",
    "Calling a `DataProcessor` on an xarray or pandas object will compute normalisation parameters for each variable in the object (if not already computed) and return the normalised object/s."
   ],
   "metadata": {
    "collapsed": false
   }
  },
  {
   "cell_type": "code",
   "execution_count": 5,
   "metadata": {
    "ExecuteTime": {
     "end_time": "2023-11-01T11:20:01.924461221Z",
     "start_time": "2023-11-01T11:20:00.335833157Z"
    }
   },
   "outputs": [
    {
     "data": {
      "text/plain": "<xarray.Dataset>\nDimensions:                  (time: 6, x1: 141, x2: 221)\nCoordinates:\n  * time                     (time) datetime64[ns] 2015-06-25 ... 2015-06-30\n  * x1                       (x1) float32 0.6364 0.6318 0.6273 ... 0.004545 0.0\n  * x2                       (x2) float32 0.0 0.004545 0.009091 ... 0.9955 1.0\nData variables:\n    2m_temperature           (time, x1, x2) float32 -2.652 -2.635 ... 2.322\n    10m_u_component_of_wind  (time, x1, x2) float32 1.987 1.985 ... 1.572 1.529\n    10m_v_component_of_wind  (time, x1, x2) float32 1.054 1.018 ... -0.724",
      "text/html": "<div><svg style=\"position: absolute; width: 0; height: 0; overflow: hidden\">\n<defs>\n<symbol id=\"icon-database\" viewBox=\"0 0 32 32\">\n<path d=\"M16 0c-8.837 0-16 2.239-16 5v4c0 2.761 7.163 5 16 5s16-2.239 16-5v-4c0-2.761-7.163-5-16-5z\"></path>\n<path d=\"M16 17c-8.837 0-16-2.239-16-5v6c0 2.761 7.163 5 16 5s16-2.239 16-5v-6c0 2.761-7.163 5-16 5z\"></path>\n<path d=\"M16 26c-8.837 0-16-2.239-16-5v6c0 2.761 7.163 5 16 5s16-2.239 16-5v-6c0 2.761-7.163 5-16 5z\"></path>\n</symbol>\n<symbol id=\"icon-file-text2\" viewBox=\"0 0 32 32\">\n<path d=\"M28.681 7.159c-0.694-0.947-1.662-2.053-2.724-3.116s-2.169-2.030-3.116-2.724c-1.612-1.182-2.393-1.319-2.841-1.319h-15.5c-1.378 0-2.5 1.121-2.5 2.5v27c0 1.378 1.122 2.5 2.5 2.5h23c1.378 0 2.5-1.122 2.5-2.5v-19.5c0-0.448-0.137-1.23-1.319-2.841zM24.543 5.457c0.959 0.959 1.712 1.825 2.268 2.543h-4.811v-4.811c0.718 0.556 1.584 1.309 2.543 2.268zM28 29.5c0 0.271-0.229 0.5-0.5 0.5h-23c-0.271 0-0.5-0.229-0.5-0.5v-27c0-0.271 0.229-0.5 0.5-0.5 0 0 15.499-0 15.5 0v7c0 0.552 0.448 1 1 1h7v19.5z\"></path>\n<path d=\"M23 26h-14c-0.552 0-1-0.448-1-1s0.448-1 1-1h14c0.552 0 1 0.448 1 1s-0.448 1-1 1z\"></path>\n<path d=\"M23 22h-14c-0.552 0-1-0.448-1-1s0.448-1 1-1h14c0.552 0 1 0.448 1 1s-0.448 1-1 1z\"></path>\n<path d=\"M23 18h-14c-0.552 0-1-0.448-1-1s0.448-1 1-1h14c0.552 0 1 0.448 1 1s-0.448 1-1 1z\"></path>\n</symbol>\n</defs>\n</svg>\n<style>/* CSS stylesheet for displaying xarray objects in jupyterlab.\n *\n */\n\n:root {\n  --xr-font-color0: var(--jp-content-font-color0, rgba(0, 0, 0, 1));\n  --xr-font-color2: var(--jp-content-font-color2, rgba(0, 0, 0, 0.54));\n  --xr-font-color3: var(--jp-content-font-color3, rgba(0, 0, 0, 0.38));\n  --xr-border-color: var(--jp-border-color2, #e0e0e0);\n  --xr-disabled-color: var(--jp-layout-color3, #bdbdbd);\n  --xr-background-color: var(--jp-layout-color0, white);\n  --xr-background-color-row-even: var(--jp-layout-color1, white);\n  --xr-background-color-row-odd: var(--jp-layout-color2, #eeeeee);\n}\n\nhtml[theme=dark],\nbody[data-theme=dark],\nbody.vscode-dark {\n  --xr-font-color0: rgba(255, 255, 255, 1);\n  --xr-font-color2: rgba(255, 255, 255, 0.54);\n  --xr-font-color3: rgba(255, 255, 255, 0.38);\n  --xr-border-color: #1F1F1F;\n  --xr-disabled-color: #515151;\n  --xr-background-color: #111111;\n  --xr-background-color-row-even: #111111;\n  --xr-background-color-row-odd: #313131;\n}\n\n.xr-wrap {\n  display: block !important;\n  min-width: 300px;\n  max-width: 700px;\n}\n\n.xr-text-repr-fallback {\n  /* fallback to plain text repr when CSS is not injected (untrusted notebook) */\n  display: none;\n}\n\n.xr-header {\n  padding-top: 6px;\n  padding-bottom: 6px;\n  margin-bottom: 4px;\n  border-bottom: solid 1px var(--xr-border-color);\n}\n\n.xr-header > div,\n.xr-header > ul {\n  display: inline;\n  margin-top: 0;\n  margin-bottom: 0;\n}\n\n.xr-obj-type,\n.xr-array-name {\n  margin-left: 2px;\n  margin-right: 10px;\n}\n\n.xr-obj-type {\n  color: var(--xr-font-color2);\n}\n\n.xr-sections {\n  padding-left: 0 !important;\n  display: grid;\n  grid-template-columns: 150px auto auto 1fr 20px 20px;\n}\n\n.xr-section-item {\n  display: contents;\n}\n\n.xr-section-item input {\n  display: none;\n}\n\n.xr-section-item input + label {\n  color: var(--xr-disabled-color);\n}\n\n.xr-section-item input:enabled + label {\n  cursor: pointer;\n  color: var(--xr-font-color2);\n}\n\n.xr-section-item input:enabled + label:hover {\n  color: var(--xr-font-color0);\n}\n\n.xr-section-summary {\n  grid-column: 1;\n  color: var(--xr-font-color2);\n  font-weight: 500;\n}\n\n.xr-section-summary > span {\n  display: inline-block;\n  padding-left: 0.5em;\n}\n\n.xr-section-summary-in:disabled + label {\n  color: var(--xr-font-color2);\n}\n\n.xr-section-summary-in + label:before {\n  display: inline-block;\n  content: '►';\n  font-size: 11px;\n  width: 15px;\n  text-align: center;\n}\n\n.xr-section-summary-in:disabled + label:before {\n  color: var(--xr-disabled-color);\n}\n\n.xr-section-summary-in:checked + label:before {\n  content: '▼';\n}\n\n.xr-section-summary-in:checked + label > span {\n  display: none;\n}\n\n.xr-section-summary,\n.xr-section-inline-details {\n  padding-top: 4px;\n  padding-bottom: 4px;\n}\n\n.xr-section-inline-details {\n  grid-column: 2 / -1;\n}\n\n.xr-section-details {\n  display: none;\n  grid-column: 1 / -1;\n  margin-bottom: 5px;\n}\n\n.xr-section-summary-in:checked ~ .xr-section-details {\n  display: contents;\n}\n\n.xr-array-wrap {\n  grid-column: 1 / -1;\n  display: grid;\n  grid-template-columns: 20px auto;\n}\n\n.xr-array-wrap > label {\n  grid-column: 1;\n  vertical-align: top;\n}\n\n.xr-preview {\n  color: var(--xr-font-color3);\n}\n\n.xr-array-preview,\n.xr-array-data {\n  padding: 0 5px !important;\n  grid-column: 2;\n}\n\n.xr-array-data,\n.xr-array-in:checked ~ .xr-array-preview {\n  display: none;\n}\n\n.xr-array-in:checked ~ .xr-array-data,\n.xr-array-preview {\n  display: inline-block;\n}\n\n.xr-dim-list {\n  display: inline-block !important;\n  list-style: none;\n  padding: 0 !important;\n  margin: 0;\n}\n\n.xr-dim-list li {\n  display: inline-block;\n  padding: 0;\n  margin: 0;\n}\n\n.xr-dim-list:before {\n  content: '(';\n}\n\n.xr-dim-list:after {\n  content: ')';\n}\n\n.xr-dim-list li:not(:last-child):after {\n  content: ',';\n  padding-right: 5px;\n}\n\n.xr-has-index {\n  font-weight: bold;\n}\n\n.xr-var-list,\n.xr-var-item {\n  display: contents;\n}\n\n.xr-var-item > div,\n.xr-var-item label,\n.xr-var-item > .xr-var-name span {\n  background-color: var(--xr-background-color-row-even);\n  margin-bottom: 0;\n}\n\n.xr-var-item > .xr-var-name:hover span {\n  padding-right: 5px;\n}\n\n.xr-var-list > li:nth-child(odd) > div,\n.xr-var-list > li:nth-child(odd) > label,\n.xr-var-list > li:nth-child(odd) > .xr-var-name span {\n  background-color: var(--xr-background-color-row-odd);\n}\n\n.xr-var-name {\n  grid-column: 1;\n}\n\n.xr-var-dims {\n  grid-column: 2;\n}\n\n.xr-var-dtype {\n  grid-column: 3;\n  text-align: right;\n  color: var(--xr-font-color2);\n}\n\n.xr-var-preview {\n  grid-column: 4;\n}\n\n.xr-index-preview {\n  grid-column: 2 / 5;\n  color: var(--xr-font-color2);\n}\n\n.xr-var-name,\n.xr-var-dims,\n.xr-var-dtype,\n.xr-preview,\n.xr-attrs dt {\n  white-space: nowrap;\n  overflow: hidden;\n  text-overflow: ellipsis;\n  padding-right: 10px;\n}\n\n.xr-var-name:hover,\n.xr-var-dims:hover,\n.xr-var-dtype:hover,\n.xr-attrs dt:hover {\n  overflow: visible;\n  width: auto;\n  z-index: 1;\n}\n\n.xr-var-attrs,\n.xr-var-data,\n.xr-index-data {\n  display: none;\n  background-color: var(--xr-background-color) !important;\n  padding-bottom: 5px !important;\n}\n\n.xr-var-attrs-in:checked ~ .xr-var-attrs,\n.xr-var-data-in:checked ~ .xr-var-data,\n.xr-index-data-in:checked ~ .xr-index-data {\n  display: block;\n}\n\n.xr-var-data > table {\n  float: right;\n}\n\n.xr-var-name span,\n.xr-var-data,\n.xr-index-name div,\n.xr-index-data,\n.xr-attrs {\n  padding-left: 25px !important;\n}\n\n.xr-attrs,\n.xr-var-attrs,\n.xr-var-data,\n.xr-index-data {\n  grid-column: 1 / -1;\n}\n\ndl.xr-attrs {\n  padding: 0;\n  margin: 0;\n  display: grid;\n  grid-template-columns: 125px auto;\n}\n\n.xr-attrs dt,\n.xr-attrs dd {\n  padding: 0;\n  margin: 0;\n  float: left;\n  padding-right: 10px;\n  width: auto;\n}\n\n.xr-attrs dt {\n  font-weight: normal;\n  grid-column: 1;\n}\n\n.xr-attrs dt:hover span {\n  display: inline-block;\n  background: var(--xr-background-color);\n  padding-right: 10px;\n}\n\n.xr-attrs dd {\n  grid-column: 2;\n  white-space: pre-wrap;\n  word-break: break-all;\n}\n\n.xr-icon-database,\n.xr-icon-file-text2,\n.xr-no-icon {\n  display: inline-block;\n  vertical-align: middle;\n  width: 1em;\n  height: 1.5em !important;\n  stroke-width: 0;\n  stroke: currentColor;\n  fill: currentColor;\n}\n</style><pre class='xr-text-repr-fallback'>&lt;xarray.Dataset&gt;\nDimensions:                  (time: 6, x1: 141, x2: 221)\nCoordinates:\n  * time                     (time) datetime64[ns] 2015-06-25 ... 2015-06-30\n  * x1                       (x1) float32 0.6364 0.6318 0.6273 ... 0.004545 0.0\n  * x2                       (x2) float32 0.0 0.004545 0.009091 ... 0.9955 1.0\nData variables:\n    2m_temperature           (time, x1, x2) float32 -2.652 -2.635 ... 2.322\n    10m_u_component_of_wind  (time, x1, x2) float32 1.987 1.985 ... 1.572 1.529\n    10m_v_component_of_wind  (time, x1, x2) float32 1.054 1.018 ... -0.724</pre><div class='xr-wrap' style='display:none'><div class='xr-header'><div class='xr-obj-type'>xarray.Dataset</div></div><ul class='xr-sections'><li class='xr-section-item'><input id='section-c1eec562-6b09-46ba-b71c-3a65173f9cfe' class='xr-section-summary-in' type='checkbox' disabled ><label for='section-c1eec562-6b09-46ba-b71c-3a65173f9cfe' class='xr-section-summary'  title='Expand/collapse section'>Dimensions:</label><div class='xr-section-inline-details'><ul class='xr-dim-list'><li><span class='xr-has-index'>time</span>: 6</li><li><span class='xr-has-index'>x1</span>: 141</li><li><span class='xr-has-index'>x2</span>: 221</li></ul></div><div class='xr-section-details'></div></li><li class='xr-section-item'><input id='section-2b3cd0b3-a584-4147-a58f-8268bc4adf92' class='xr-section-summary-in' type='checkbox'  checked><label for='section-2b3cd0b3-a584-4147-a58f-8268bc4adf92' class='xr-section-summary' >Coordinates: <span>(3)</span></label><div class='xr-section-inline-details'></div><div class='xr-section-details'><ul class='xr-var-list'><li class='xr-var-item'><div class='xr-var-name'><span class='xr-has-index'>time</span></div><div class='xr-var-dims'>(time)</div><div class='xr-var-dtype'>datetime64[ns]</div><div class='xr-var-preview xr-preview'>2015-06-25 ... 2015-06-30</div><input id='attrs-d6eb3a40-f978-4e94-b801-36fa8377aab5' class='xr-var-attrs-in' type='checkbox' disabled><label for='attrs-d6eb3a40-f978-4e94-b801-36fa8377aab5' title='Show/Hide attributes'><svg class='icon xr-icon-file-text2'><use xlink:href='#icon-file-text2'></use></svg></label><input id='data-87e687b3-41fa-4d49-93c9-992fd7b22da1' class='xr-var-data-in' type='checkbox'><label for='data-87e687b3-41fa-4d49-93c9-992fd7b22da1' title='Show/Hide data repr'><svg class='icon xr-icon-database'><use xlink:href='#icon-database'></use></svg></label><div class='xr-var-attrs'><dl class='xr-attrs'></dl></div><div class='xr-var-data'><pre>array([&#x27;2015-06-25T00:00:00.000000000&#x27;, &#x27;2015-06-26T00:00:00.000000000&#x27;,\n       &#x27;2015-06-27T00:00:00.000000000&#x27;, &#x27;2015-06-28T00:00:00.000000000&#x27;,\n       &#x27;2015-06-29T00:00:00.000000000&#x27;, &#x27;2015-06-30T00:00:00.000000000&#x27;],\n      dtype=&#x27;datetime64[ns]&#x27;)</pre></div></li><li class='xr-var-item'><div class='xr-var-name'><span class='xr-has-index'>x1</span></div><div class='xr-var-dims'>(x1)</div><div class='xr-var-dtype'>float32</div><div class='xr-var-preview xr-preview'>0.6364 0.6318 ... 0.004545 0.0</div><input id='attrs-434da280-8731-4aad-bf68-324cb148fbda' class='xr-var-attrs-in' type='checkbox' disabled><label for='attrs-434da280-8731-4aad-bf68-324cb148fbda' title='Show/Hide attributes'><svg class='icon xr-icon-file-text2'><use xlink:href='#icon-file-text2'></use></svg></label><input id='data-e674ca65-5e43-4858-b1b6-dfccd520559a' class='xr-var-data-in' type='checkbox'><label for='data-e674ca65-5e43-4858-b1b6-dfccd520559a' title='Show/Hide data repr'><svg class='icon xr-icon-database'><use xlink:href='#icon-database'></use></svg></label><div class='xr-var-attrs'><dl class='xr-attrs'></dl></div><div class='xr-var-data'><pre>array([0.636364, 0.631818, 0.627273, 0.622727, 0.618182, 0.613636, 0.609091,\n       0.604545, 0.6     , 0.595455, 0.590909, 0.586364, 0.581818, 0.577273,\n       0.572727, 0.568182, 0.563636, 0.559091, 0.554545, 0.55    , 0.545455,\n       0.540909, 0.536364, 0.531818, 0.527273, 0.522727, 0.518182, 0.513636,\n       0.509091, 0.504545, 0.5     , 0.495455, 0.490909, 0.486364, 0.481818,\n       0.477273, 0.472727, 0.468182, 0.463636, 0.459091, 0.454545, 0.45    ,\n       0.445455, 0.440909, 0.436364, 0.431818, 0.427273, 0.422727, 0.418182,\n       0.413636, 0.409091, 0.404545, 0.4     , 0.395455, 0.390909, 0.386364,\n       0.381818, 0.377273, 0.372727, 0.368182, 0.363636, 0.359091, 0.354545,\n       0.35    , 0.345455, 0.340909, 0.336364, 0.331818, 0.327273, 0.322727,\n       0.318182, 0.313636, 0.309091, 0.304545, 0.3     , 0.295455, 0.290909,\n       0.286364, 0.281818, 0.277273, 0.272727, 0.268182, 0.263636, 0.259091,\n       0.254545, 0.25    , 0.245455, 0.240909, 0.236364, 0.231818, 0.227273,\n       0.222727, 0.218182, 0.213636, 0.209091, 0.204545, 0.2     , 0.195455,\n       0.190909, 0.186364, 0.181818, 0.177273, 0.172727, 0.168182, 0.163636,\n       0.159091, 0.154545, 0.15    , 0.145455, 0.140909, 0.136364, 0.131818,\n       0.127273, 0.122727, 0.118182, 0.113636, 0.109091, 0.104545, 0.1     ,\n       0.095455, 0.090909, 0.086364, 0.081818, 0.077273, 0.072727, 0.068182,\n       0.063636, 0.059091, 0.054545, 0.05    , 0.045455, 0.040909, 0.036364,\n       0.031818, 0.027273, 0.022727, 0.018182, 0.013636, 0.009091, 0.004545,\n       0.      ], dtype=float32)</pre></div></li><li class='xr-var-item'><div class='xr-var-name'><span class='xr-has-index'>x2</span></div><div class='xr-var-dims'>(x2)</div><div class='xr-var-dtype'>float32</div><div class='xr-var-preview xr-preview'>0.0 0.004545 ... 0.9955 1.0</div><input id='attrs-9aabbd95-3907-4fa3-bedd-86f8d0f82669' class='xr-var-attrs-in' type='checkbox' disabled><label for='attrs-9aabbd95-3907-4fa3-bedd-86f8d0f82669' title='Show/Hide attributes'><svg class='icon xr-icon-file-text2'><use xlink:href='#icon-file-text2'></use></svg></label><input id='data-51d71579-5f65-4d83-8f19-5385600a9767' class='xr-var-data-in' type='checkbox'><label for='data-51d71579-5f65-4d83-8f19-5385600a9767' title='Show/Hide data repr'><svg class='icon xr-icon-database'><use xlink:href='#icon-database'></use></svg></label><div class='xr-var-attrs'><dl class='xr-attrs'></dl></div><div class='xr-var-data'><pre>array([0.      , 0.004545, 0.009091, ..., 0.990909, 0.995455, 1.      ],\n      dtype=float32)</pre></div></li></ul></div></li><li class='xr-section-item'><input id='section-932dfb1b-f516-4141-bfaa-1cd37ea8c857' class='xr-section-summary-in' type='checkbox'  checked><label for='section-932dfb1b-f516-4141-bfaa-1cd37ea8c857' class='xr-section-summary' >Data variables: <span>(3)</span></label><div class='xr-section-inline-details'></div><div class='xr-section-details'><ul class='xr-var-list'><li class='xr-var-item'><div class='xr-var-name'><span>2m_temperature</span></div><div class='xr-var-dims'>(time, x1, x2)</div><div class='xr-var-dtype'>float32</div><div class='xr-var-preview xr-preview'>-2.652 -2.635 ... 2.235 2.322</div><input id='attrs-0d42e395-1de0-4556-9e36-02d74db64e5d' class='xr-var-attrs-in' type='checkbox' disabled><label for='attrs-0d42e395-1de0-4556-9e36-02d74db64e5d' title='Show/Hide attributes'><svg class='icon xr-icon-file-text2'><use xlink:href='#icon-file-text2'></use></svg></label><input id='data-3f239a1e-baee-465b-aadd-25f18e9affa2' class='xr-var-data-in' type='checkbox'><label for='data-3f239a1e-baee-465b-aadd-25f18e9affa2' title='Show/Hide data repr'><svg class='icon xr-icon-database'><use xlink:href='#icon-database'></use></svg></label><div class='xr-var-attrs'><dl class='xr-attrs'></dl></div><div class='xr-var-data'><pre>array([[[-2.6523552 , -2.6348572 , -2.6191788 , ..., -1.190525  ,\n         -1.1986656 , -1.2125969 ],\n        [-2.615448  , -2.6060944 , -2.5952187 , ..., -1.1386185 ,\n         -1.1468468 , -1.160923  ],\n        [-2.5641403 , -2.5547295 , -2.545517  , ..., -1.0934029 ,\n         -1.1080284 , -1.1220665 ],\n        ...,\n        [ 0.7250366 ,  0.71790314,  0.7080231 , ...,  1.9699783 ,\n          2.1188316 ,  2.3057442 ],\n        [ 0.7476959 ,  0.7334976 ,  0.7221947 , ...,  1.8910828 ,\n          2.107647  ,  2.3647995 ],\n        [ 0.7528763 ,  0.7448845 ,  0.73334885, ...,  2.2095985 ,\n          2.31279   ,  2.398697  ]],\n\n       [[-2.5501785 , -2.5397987 , -2.5316696 , ..., -1.46101   ,\n         -1.459446  , -1.4568634 ],\n        [-2.4556313 , -2.4541702 , -2.4519768 , ..., -1.4176788 ,\n         -1.4160271 , -1.4134521 ],\n        [-2.3554993 , -2.3542175 , -2.3529587 , ..., -1.376133  ,\n         -1.3760033 , -1.3716049 ],\n...\n        [ 0.71673584,  0.69192123,  0.66566086, ...,  1.9801445 ,\n          2.1486855 ,  2.3426056 ],\n        [ 0.7229271 ,  0.69088745,  0.66340256, ...,  1.9233055 ,\n          2.1533813 ,  2.4106102 ],\n        [ 0.7176094 ,  0.6897087 ,  0.6639595 , ...,  2.2028618 ,\n          2.3241425 ,  2.4215965 ]],\n\n       [[-2.3398476 , -2.3420486 , -2.34449   , ..., -1.8318138 ,\n         -1.8369827 , -1.8382492 ],\n        [-2.3311996 , -2.3352852 , -2.3385582 , ..., -1.7985497 ,\n         -1.8037567 , -1.8049812 ],\n        [-2.3111572 , -2.315361  , -2.3195343 , ..., -1.76437   ,\n         -1.769947  , -1.7740784 ],\n        ...,\n        [ 0.8371887 ,  0.82435226,  0.8161011 , ...,  1.8790741 ,\n          2.038414  ,  2.2233696 ],\n        [ 0.85030365,  0.8317833 ,  0.8202286 , ...,  1.8408623 ,\n          2.0677109 ,  2.3173485 ],\n        [ 0.85694885,  0.83976364,  0.8279114 , ...,  2.1220284 ,\n          2.2351494 ,  2.3223839 ]]], dtype=float32)</pre></div></li><li class='xr-var-item'><div class='xr-var-name'><span>10m_u_component_of_wind</span></div><div class='xr-var-dims'>(time, x1, x2)</div><div class='xr-var-dtype'>float32</div><div class='xr-var-preview xr-preview'>1.987 1.985 1.985 ... 1.572 1.529</div><input id='attrs-06c52a7d-2604-415a-8b42-248fdb594516' class='xr-var-attrs-in' type='checkbox' disabled><label for='attrs-06c52a7d-2604-415a-8b42-248fdb594516' title='Show/Hide attributes'><svg class='icon xr-icon-file-text2'><use xlink:href='#icon-file-text2'></use></svg></label><input id='data-0e261621-c44b-4c08-9c71-2c66b28ca330' class='xr-var-data-in' type='checkbox'><label for='data-0e261621-c44b-4c08-9c71-2c66b28ca330' title='Show/Hide data repr'><svg class='icon xr-icon-database'><use xlink:href='#icon-database'></use></svg></label><div class='xr-var-attrs'><dl class='xr-attrs'></dl></div><div class='xr-var-data'><pre>array([[[ 1.9867022 ,  1.9852841 ,  1.9854782 , ..., -0.03774244,\n         -0.01398502,  0.01424471],\n        [ 2.0099676 ,  2.0157323 ,  2.0208912 , ...,  0.02567162,\n          0.04982929,  0.07827641],\n        [ 1.9669826 ,  1.9727471 ,  1.9787295 , ...,  0.02890863,\n          0.06622045,  0.10174783],\n        ...,\n        [ 0.107547  ,  0.09797318,  0.05313496, ...,  3.6755922 ,\n          3.618241  ,  3.3195407 ],\n        [ 0.11976318,  0.08455609,  0.02544282, ...,  3.5628335 ,\n          3.531126  ,  3.1831043 ],\n        [ 0.13624574,  0.06425302, -0.01961268, ...,  3.0371287 ,\n          3.0529816 ,  2.9593139 ]],\n\n       [[ 1.9374385 ,  1.9820731 ,  2.0263605 , ...,  1.8701108 ,\n          1.9066098 ,  1.9328997 ],\n        [ 1.8437095 ,  1.8855307 ,  1.9292805 , ...,  1.9600194 ,\n          1.997056  ,  2.0236034 ],\n        [ 1.5285546 ,  1.5705444 ,  1.6131843 , ...,  2.0331178 ,\n          2.056102  ,  2.0738413 ],\n...\n        [-0.24281344, -0.2311048 , -0.21245493, ...,  2.0393054 ,\n          1.952157  ,  1.7797613 ],\n        [-0.30337298, -0.29068774, -0.27305645, ...,  1.8711834 ,\n          1.8161476 ,  1.6167116 ],\n        [-0.3554582 , -0.34528267, -0.3267063 , ...,  1.503752  ,\n          1.5538417 ,  1.5262661 ]],\n\n       [[-0.88259035, -0.9220995 , -0.9566686 , ...,  1.8813791 ,\n          1.9043632 ,  1.9191835 ],\n        [-1.0911965 , -1.1048253 , -1.1266619 , ...,  1.9713376 ,\n          1.9946496 ,  2.0095243 ],\n        [-1.3249073 , -1.3380989 , -1.350875  , ...,  1.9883761 ,\n          2.018781  ,  2.0378637 ],\n        ...,\n        [ 1.1508583 ,  1.1197207 ,  1.0529324 , ...,  2.0892966 ,\n          2.0107918 ,  1.8264158 ],\n        [ 1.074452  ,  1.0030296 ,  0.92812055, ...,  1.8889747 ,\n          1.855717  ,  1.6535263 ],\n        [ 0.97419816,  0.8868299 ,  0.8100632 , ...,  1.524638  ,\n          1.5723332 ,  1.5288672 ]]], dtype=float32)</pre></div></li><li class='xr-var-item'><div class='xr-var-name'><span>10m_v_component_of_wind</span></div><div class='xr-var-dims'>(time, x1, x2)</div><div class='xr-var-dtype'>float32</div><div class='xr-var-preview xr-preview'>1.054 1.018 0.983 ... -0.778 -0.724</div><input id='attrs-f7e31da4-e132-4fc5-a001-add3a88bc4b6' class='xr-var-attrs-in' type='checkbox' disabled><label for='attrs-f7e31da4-e132-4fc5-a001-add3a88bc4b6' title='Show/Hide attributes'><svg class='icon xr-icon-file-text2'><use xlink:href='#icon-file-text2'></use></svg></label><input id='data-f84cc970-2fd9-4a51-ac4b-bbd749bdcd7d' class='xr-var-data-in' type='checkbox'><label for='data-f84cc970-2fd9-4a51-ac4b-bbd749bdcd7d' title='Show/Hide data repr'><svg class='icon xr-icon-database'><use xlink:href='#icon-database'></use></svg></label><div class='xr-var-attrs'><dl class='xr-attrs'></dl></div><div class='xr-var-data'><pre>array([[[ 1.0540881e+00,  1.0182923e+00,  9.8300970e-01, ...,\n          1.4420865e+00,  1.4325457e+00,  1.4366663e+00],\n        [ 1.0086231e+00,  9.7437513e-01,  9.3983626e-01, ...,\n          1.5612113e+00,  1.5515506e+00,  1.5557227e+00],\n        [ 9.7015196e-01,  9.3555319e-01,  9.0095431e-01, ...,\n          1.6508585e+00,  1.6414031e+00,  1.6372997e+00],\n        ...,\n        [-7.2610891e-01, -7.6200718e-01, -7.6854742e-01, ...,\n         -7.1113938e-01, -8.8267940e-01, -8.7818265e-01],\n        [-8.4160048e-01, -8.6288816e-01, -8.5716861e-01, ...,\n         -1.2555542e+00, -1.1878699e+00, -1.0134059e+00],\n        [-9.1483313e-01, -9.2714417e-01, -9.1954392e-01, ...,\n         -1.1848691e+00, -9.7225833e-01, -8.0542868e-01]],\n\n       [[ 7.6629186e-01,  7.3474604e-01,  7.0416361e-01, ...,\n         -7.0524555e-01, -6.3118845e-01, -5.4704404e-01],\n        [ 8.4295106e-01,  8.2335114e-01,  7.9528624e-01, ...,\n         -5.4133314e-01, -4.6632135e-01, -3.8118848e-01],\n        [ 9.2358929e-01,  9.0448791e-01,  8.8523436e-01, ...,\n         -3.9005920e-01, -3.1745508e-01, -2.4389644e-01],\n...\n        [-1.1776097e+00, -1.2850400e+00, -1.4078401e+00, ...,\n         -5.3842860e-01, -6.8481743e-01, -6.9051790e-01],\n        [-1.2283620e+00, -1.3342761e+00, -1.4526581e+00, ...,\n         -8.7780237e-01, -8.4295344e-01, -7.6150787e-01],\n        [-1.2609743e+00, -1.3704449e+00, -1.4837912e+00, ...,\n         -7.6381052e-01, -6.4306021e-01, -5.7118100e-01]],\n\n       [[ 1.6113994e-01,  1.6557619e-01,  1.6842957e-01, ...,\n         -1.3953098e+00, -1.3844689e+00, -1.3523219e+00],\n        [ 3.0843057e-02,  1.6971957e-02,  1.4732994e-02, ...,\n         -1.3481355e+00, -1.3371387e+00, -1.3046267e+00],\n        [-7.2961196e-02, -8.7894514e-02, -1.0261957e-01, ...,\n         -1.2933800e+00, -1.2916409e+00, -1.2693762e+00],\n        ...,\n        [ 3.5955313e-01,  3.4301606e-01,  2.8095013e-01, ...,\n         -5.0673562e-01, -6.5742260e-01, -6.8586248e-01],\n        [ 3.1950191e-01,  2.9112437e-01,  2.1389596e-01, ...,\n         -8.8749373e-01, -8.6598921e-01, -8.0972373e-01],\n        [ 2.2508034e-01,  1.8238398e-01,  9.3731761e-02, ...,\n         -8.9222151e-01, -7.7802432e-01, -7.2397697e-01]]], dtype=float32)</pre></div></li></ul></div></li><li class='xr-section-item'><input id='section-fa15a184-0afb-48bf-b2fd-5714002cdd8c' class='xr-section-summary-in' type='checkbox'  ><label for='section-fa15a184-0afb-48bf-b2fd-5714002cdd8c' class='xr-section-summary' >Indexes: <span>(3)</span></label><div class='xr-section-inline-details'></div><div class='xr-section-details'><ul class='xr-var-list'><li class='xr-var-item'><div class='xr-index-name'><div>time</div></div><div class='xr-index-preview'>PandasIndex</div><div></div><input id='index-28375499-a233-487e-817b-67d6f5dd34dd' class='xr-index-data-in' type='checkbox'/><label for='index-28375499-a233-487e-817b-67d6f5dd34dd' title='Show/Hide index repr'><svg class='icon xr-icon-database'><use xlink:href='#icon-database'></use></svg></label><div class='xr-index-data'><pre>PandasIndex(DatetimeIndex([&#x27;2015-06-25&#x27;, &#x27;2015-06-26&#x27;, &#x27;2015-06-27&#x27;, &#x27;2015-06-28&#x27;,\n               &#x27;2015-06-29&#x27;, &#x27;2015-06-30&#x27;],\n              dtype=&#x27;datetime64[ns]&#x27;, name=&#x27;time&#x27;, freq=&#x27;D&#x27;))</pre></div></li><li class='xr-var-item'><div class='xr-index-name'><div>x1</div></div><div class='xr-index-preview'>PandasIndex</div><div></div><input id='index-52c1c86f-aa93-4e72-9768-e2971f21dcce' class='xr-index-data-in' type='checkbox'/><label for='index-52c1c86f-aa93-4e72-9768-e2971f21dcce' title='Show/Hide index repr'><svg class='icon xr-icon-database'><use xlink:href='#icon-database'></use></svg></label><div class='xr-index-data'><pre>PandasIndex(Index([  0.6363636255264282,   0.6318181753158569,   0.6272727251052856,\n         0.6227272748947144,   0.6181818246841431,   0.6136363744735718,\n         0.6090909242630005,   0.6045454740524292,   0.6000000238418579,\n         0.5954545736312866,\n       ...\n       0.040909089148044586,    0.036363635212183,  0.03181818127632141,\n       0.027272727340459824, 0.022727273404598236,   0.0181818176060915,\n       0.013636363670229912,  0.00909090880304575, 0.004545454401522875,\n                        0.0],\n      dtype=&#x27;float32&#x27;, name=&#x27;x1&#x27;, length=141))</pre></div></li><li class='xr-var-item'><div class='xr-index-name'><div>x2</div></div><div class='xr-index-preview'>PandasIndex</div><div></div><input id='index-877be95a-f9c0-4795-861d-c30ee212e97b' class='xr-index-data-in' type='checkbox'/><label for='index-877be95a-f9c0-4795-861d-c30ee212e97b' title='Show/Hide index repr'><svg class='icon xr-icon-database'><use xlink:href='#icon-database'></use></svg></label><div class='xr-index-data'><pre>PandasIndex(Index([                 0.0, 0.004545454401522875,  0.00909090880304575,\n       0.013636363670229912,   0.0181818176060915, 0.022727273404598236,\n       0.027272727340459824,  0.03181818127632141,    0.036363635212183,\n       0.040909089148044586,\n       ...\n         0.9590908885002136,   0.9636363387107849,   0.9681817889213562,\n         0.9727272987365723,   0.9772727489471436,   0.9818181991577148,\n         0.9863636493682861,   0.9909090995788574,   0.9954545497894287,\n                        1.0],\n      dtype=&#x27;float32&#x27;, name=&#x27;x2&#x27;, length=221))</pre></div></li></ul></div></li><li class='xr-section-item'><input id='section-355b1155-0e56-4d23-8196-bc325af82472' class='xr-section-summary-in' type='checkbox' disabled ><label for='section-355b1155-0e56-4d23-8196-bc325af82472' class='xr-section-summary'  title='Expand/collapse section'>Attributes: <span>(0)</span></label><div class='xr-section-inline-details'></div><div class='xr-section-details'><dl class='xr-attrs'></dl></div></li></ul></div></div>"
     },
     "execution_count": 5,
     "metadata": {},
     "output_type": "execute_result"
    }
   ],
   "source": [
    "era5_ds = data_processor(era5_raw_ds)\n",
    "era5_ds"
   ]
  },
  {
   "cell_type": "code",
   "execution_count": 6,
   "metadata": {
    "ExecuteTime": {
     "end_time": "2023-11-01T11:20:01.927630212Z",
     "start_time": "2023-11-01T11:20:01.880690559Z"
    }
   },
   "outputs": [
    {
     "data": {
      "text/plain": "                                              PRCP      TAVG\ntime       x1       x2       station                        \n2015-06-25 0.000309 0.246364 AGM00060531 -0.278121  0.759107\n           0.001818 0.239091 AGE00147716 -0.278121  0.836200\n           0.002127 0.940909 SYM00040030       NaN  1.221668\n           0.003036 0.314855 AGM00060514 -0.278121  1.318035\n           0.003636 0.261509 AGM00060520 -0.278121  1.125301\n...                                            ...       ...\n2015-06-30 0.198782 0.412727 ITM00016052       NaN -2.575188\n           0.061218 0.263636 SPM00008359 -0.278121  1.645682\n           0.370600 0.940000 RSM00027611 -0.278121 -0.358749\n           0.437818 0.597455 SWE00138750 -0.278121       NaN\n           0.522909 0.498727 SWE00140158 -0.134323       NaN\n\n[16922 rows x 2 columns]",
      "text/html": "<div>\n<style scoped>\n    .dataframe tbody tr th:only-of-type {\n        vertical-align: middle;\n    }\n\n    .dataframe tbody tr th {\n        vertical-align: top;\n    }\n\n    .dataframe thead th {\n        text-align: right;\n    }\n</style>\n<table border=\"1\" class=\"dataframe\">\n  <thead>\n    <tr style=\"text-align: right;\">\n      <th></th>\n      <th></th>\n      <th></th>\n      <th></th>\n      <th>PRCP</th>\n      <th>TAVG</th>\n    </tr>\n    <tr>\n      <th>time</th>\n      <th>x1</th>\n      <th>x2</th>\n      <th>station</th>\n      <th></th>\n      <th></th>\n    </tr>\n  </thead>\n  <tbody>\n    <tr>\n      <th rowspan=\"5\" valign=\"top\">2015-06-25</th>\n      <th>0.000309</th>\n      <th>0.246364</th>\n      <th>AGM00060531</th>\n      <td>-0.278121</td>\n      <td>0.759107</td>\n    </tr>\n    <tr>\n      <th>0.001818</th>\n      <th>0.239091</th>\n      <th>AGE00147716</th>\n      <td>-0.278121</td>\n      <td>0.836200</td>\n    </tr>\n    <tr>\n      <th>0.002127</th>\n      <th>0.940909</th>\n      <th>SYM00040030</th>\n      <td>NaN</td>\n      <td>1.221668</td>\n    </tr>\n    <tr>\n      <th>0.003036</th>\n      <th>0.314855</th>\n      <th>AGM00060514</th>\n      <td>-0.278121</td>\n      <td>1.318035</td>\n    </tr>\n    <tr>\n      <th>0.003636</th>\n      <th>0.261509</th>\n      <th>AGM00060520</th>\n      <td>-0.278121</td>\n      <td>1.125301</td>\n    </tr>\n    <tr>\n      <th>...</th>\n      <th>...</th>\n      <th>...</th>\n      <th>...</th>\n      <td>...</td>\n      <td>...</td>\n    </tr>\n    <tr>\n      <th rowspan=\"5\" valign=\"top\">2015-06-30</th>\n      <th>0.198782</th>\n      <th>0.412727</th>\n      <th>ITM00016052</th>\n      <td>NaN</td>\n      <td>-2.575188</td>\n    </tr>\n    <tr>\n      <th>0.061218</th>\n      <th>0.263636</th>\n      <th>SPM00008359</th>\n      <td>-0.278121</td>\n      <td>1.645682</td>\n    </tr>\n    <tr>\n      <th>0.370600</th>\n      <th>0.940000</th>\n      <th>RSM00027611</th>\n      <td>-0.278121</td>\n      <td>-0.358749</td>\n    </tr>\n    <tr>\n      <th>0.437818</th>\n      <th>0.597455</th>\n      <th>SWE00138750</th>\n      <td>-0.278121</td>\n      <td>NaN</td>\n    </tr>\n    <tr>\n      <th>0.522909</th>\n      <th>0.498727</th>\n      <th>SWE00140158</th>\n      <td>-0.134323</td>\n      <td>NaN</td>\n    </tr>\n  </tbody>\n</table>\n<p>16922 rows × 2 columns</p>\n</div>"
     },
     "execution_count": 6,
     "metadata": {},
     "output_type": "execute_result"
    }
   ],
   "source": [
    "station_df = data_processor(station_raw_df)\n",
    "station_df"
   ]
  },
  {
   "cell_type": "markdown",
   "metadata": {},
   "source": [
    "You can also process multiple variables in one `DataProcessor` call, and choose to normalise the data with `\"min_max\"`, which will scale the data to the range [-1, 1]. For example:"
   ]
  },
  {
   "cell_type": "code",
   "execution_count": 7,
   "metadata": {
    "ExecuteTime": {
     "end_time": "2023-11-01T11:20:02.396453228Z",
     "start_time": "2023-11-01T11:20:01.891521501Z"
    }
   },
   "outputs": [
    {
     "data": {
      "text/plain": "<xarray.Dataset>\nDimensions:    (x1: 4200, x2: 6600)\nCoordinates:\n  * x1         (x1) float64 0.6363 0.6361 0.636 ... 0.0002273 7.576e-05\n  * x2         (x2) float64 7.576e-05 0.0002273 0.0003788 ... 0.9998 0.9999\nData variables:\n    elevation  (x1, x2) float32 -0.921 -0.921 -0.921 ... -0.8095 -0.8095 -0.8099\n    tpi        (x1, x2) float32 -0.09401 -0.09401 -0.09401 ... -0.09305 -0.09199",
      "text/html": "<div><svg style=\"position: absolute; width: 0; height: 0; overflow: hidden\">\n<defs>\n<symbol id=\"icon-database\" viewBox=\"0 0 32 32\">\n<path d=\"M16 0c-8.837 0-16 2.239-16 5v4c0 2.761 7.163 5 16 5s16-2.239 16-5v-4c0-2.761-7.163-5-16-5z\"></path>\n<path d=\"M16 17c-8.837 0-16-2.239-16-5v6c0 2.761 7.163 5 16 5s16-2.239 16-5v-6c0 2.761-7.163 5-16 5z\"></path>\n<path d=\"M16 26c-8.837 0-16-2.239-16-5v6c0 2.761 7.163 5 16 5s16-2.239 16-5v-6c0 2.761-7.163 5-16 5z\"></path>\n</symbol>\n<symbol id=\"icon-file-text2\" viewBox=\"0 0 32 32\">\n<path d=\"M28.681 7.159c-0.694-0.947-1.662-2.053-2.724-3.116s-2.169-2.030-3.116-2.724c-1.612-1.182-2.393-1.319-2.841-1.319h-15.5c-1.378 0-2.5 1.121-2.5 2.5v27c0 1.378 1.122 2.5 2.5 2.5h23c1.378 0 2.5-1.122 2.5-2.5v-19.5c0-0.448-0.137-1.23-1.319-2.841zM24.543 5.457c0.959 0.959 1.712 1.825 2.268 2.543h-4.811v-4.811c0.718 0.556 1.584 1.309 2.543 2.268zM28 29.5c0 0.271-0.229 0.5-0.5 0.5h-23c-0.271 0-0.5-0.229-0.5-0.5v-27c0-0.271 0.229-0.5 0.5-0.5 0 0 15.499-0 15.5 0v7c0 0.552 0.448 1 1 1h7v19.5z\"></path>\n<path d=\"M23 26h-14c-0.552 0-1-0.448-1-1s0.448-1 1-1h14c0.552 0 1 0.448 1 1s-0.448 1-1 1z\"></path>\n<path d=\"M23 22h-14c-0.552 0-1-0.448-1-1s0.448-1 1-1h14c0.552 0 1 0.448 1 1s-0.448 1-1 1z\"></path>\n<path d=\"M23 18h-14c-0.552 0-1-0.448-1-1s0.448-1 1-1h14c0.552 0 1 0.448 1 1s-0.448 1-1 1z\"></path>\n</symbol>\n</defs>\n</svg>\n<style>/* CSS stylesheet for displaying xarray objects in jupyterlab.\n *\n */\n\n:root {\n  --xr-font-color0: var(--jp-content-font-color0, rgba(0, 0, 0, 1));\n  --xr-font-color2: var(--jp-content-font-color2, rgba(0, 0, 0, 0.54));\n  --xr-font-color3: var(--jp-content-font-color3, rgba(0, 0, 0, 0.38));\n  --xr-border-color: var(--jp-border-color2, #e0e0e0);\n  --xr-disabled-color: var(--jp-layout-color3, #bdbdbd);\n  --xr-background-color: var(--jp-layout-color0, white);\n  --xr-background-color-row-even: var(--jp-layout-color1, white);\n  --xr-background-color-row-odd: var(--jp-layout-color2, #eeeeee);\n}\n\nhtml[theme=dark],\nbody[data-theme=dark],\nbody.vscode-dark {\n  --xr-font-color0: rgba(255, 255, 255, 1);\n  --xr-font-color2: rgba(255, 255, 255, 0.54);\n  --xr-font-color3: rgba(255, 255, 255, 0.38);\n  --xr-border-color: #1F1F1F;\n  --xr-disabled-color: #515151;\n  --xr-background-color: #111111;\n  --xr-background-color-row-even: #111111;\n  --xr-background-color-row-odd: #313131;\n}\n\n.xr-wrap {\n  display: block !important;\n  min-width: 300px;\n  max-width: 700px;\n}\n\n.xr-text-repr-fallback {\n  /* fallback to plain text repr when CSS is not injected (untrusted notebook) */\n  display: none;\n}\n\n.xr-header {\n  padding-top: 6px;\n  padding-bottom: 6px;\n  margin-bottom: 4px;\n  border-bottom: solid 1px var(--xr-border-color);\n}\n\n.xr-header > div,\n.xr-header > ul {\n  display: inline;\n  margin-top: 0;\n  margin-bottom: 0;\n}\n\n.xr-obj-type,\n.xr-array-name {\n  margin-left: 2px;\n  margin-right: 10px;\n}\n\n.xr-obj-type {\n  color: var(--xr-font-color2);\n}\n\n.xr-sections {\n  padding-left: 0 !important;\n  display: grid;\n  grid-template-columns: 150px auto auto 1fr 20px 20px;\n}\n\n.xr-section-item {\n  display: contents;\n}\n\n.xr-section-item input {\n  display: none;\n}\n\n.xr-section-item input + label {\n  color: var(--xr-disabled-color);\n}\n\n.xr-section-item input:enabled + label {\n  cursor: pointer;\n  color: var(--xr-font-color2);\n}\n\n.xr-section-item input:enabled + label:hover {\n  color: var(--xr-font-color0);\n}\n\n.xr-section-summary {\n  grid-column: 1;\n  color: var(--xr-font-color2);\n  font-weight: 500;\n}\n\n.xr-section-summary > span {\n  display: inline-block;\n  padding-left: 0.5em;\n}\n\n.xr-section-summary-in:disabled + label {\n  color: var(--xr-font-color2);\n}\n\n.xr-section-summary-in + label:before {\n  display: inline-block;\n  content: '►';\n  font-size: 11px;\n  width: 15px;\n  text-align: center;\n}\n\n.xr-section-summary-in:disabled + label:before {\n  color: var(--xr-disabled-color);\n}\n\n.xr-section-summary-in:checked + label:before {\n  content: '▼';\n}\n\n.xr-section-summary-in:checked + label > span {\n  display: none;\n}\n\n.xr-section-summary,\n.xr-section-inline-details {\n  padding-top: 4px;\n  padding-bottom: 4px;\n}\n\n.xr-section-inline-details {\n  grid-column: 2 / -1;\n}\n\n.xr-section-details {\n  display: none;\n  grid-column: 1 / -1;\n  margin-bottom: 5px;\n}\n\n.xr-section-summary-in:checked ~ .xr-section-details {\n  display: contents;\n}\n\n.xr-array-wrap {\n  grid-column: 1 / -1;\n  display: grid;\n  grid-template-columns: 20px auto;\n}\n\n.xr-array-wrap > label {\n  grid-column: 1;\n  vertical-align: top;\n}\n\n.xr-preview {\n  color: var(--xr-font-color3);\n}\n\n.xr-array-preview,\n.xr-array-data {\n  padding: 0 5px !important;\n  grid-column: 2;\n}\n\n.xr-array-data,\n.xr-array-in:checked ~ .xr-array-preview {\n  display: none;\n}\n\n.xr-array-in:checked ~ .xr-array-data,\n.xr-array-preview {\n  display: inline-block;\n}\n\n.xr-dim-list {\n  display: inline-block !important;\n  list-style: none;\n  padding: 0 !important;\n  margin: 0;\n}\n\n.xr-dim-list li {\n  display: inline-block;\n  padding: 0;\n  margin: 0;\n}\n\n.xr-dim-list:before {\n  content: '(';\n}\n\n.xr-dim-list:after {\n  content: ')';\n}\n\n.xr-dim-list li:not(:last-child):after {\n  content: ',';\n  padding-right: 5px;\n}\n\n.xr-has-index {\n  font-weight: bold;\n}\n\n.xr-var-list,\n.xr-var-item {\n  display: contents;\n}\n\n.xr-var-item > div,\n.xr-var-item label,\n.xr-var-item > .xr-var-name span {\n  background-color: var(--xr-background-color-row-even);\n  margin-bottom: 0;\n}\n\n.xr-var-item > .xr-var-name:hover span {\n  padding-right: 5px;\n}\n\n.xr-var-list > li:nth-child(odd) > div,\n.xr-var-list > li:nth-child(odd) > label,\n.xr-var-list > li:nth-child(odd) > .xr-var-name span {\n  background-color: var(--xr-background-color-row-odd);\n}\n\n.xr-var-name {\n  grid-column: 1;\n}\n\n.xr-var-dims {\n  grid-column: 2;\n}\n\n.xr-var-dtype {\n  grid-column: 3;\n  text-align: right;\n  color: var(--xr-font-color2);\n}\n\n.xr-var-preview {\n  grid-column: 4;\n}\n\n.xr-index-preview {\n  grid-column: 2 / 5;\n  color: var(--xr-font-color2);\n}\n\n.xr-var-name,\n.xr-var-dims,\n.xr-var-dtype,\n.xr-preview,\n.xr-attrs dt {\n  white-space: nowrap;\n  overflow: hidden;\n  text-overflow: ellipsis;\n  padding-right: 10px;\n}\n\n.xr-var-name:hover,\n.xr-var-dims:hover,\n.xr-var-dtype:hover,\n.xr-attrs dt:hover {\n  overflow: visible;\n  width: auto;\n  z-index: 1;\n}\n\n.xr-var-attrs,\n.xr-var-data,\n.xr-index-data {\n  display: none;\n  background-color: var(--xr-background-color) !important;\n  padding-bottom: 5px !important;\n}\n\n.xr-var-attrs-in:checked ~ .xr-var-attrs,\n.xr-var-data-in:checked ~ .xr-var-data,\n.xr-index-data-in:checked ~ .xr-index-data {\n  display: block;\n}\n\n.xr-var-data > table {\n  float: right;\n}\n\n.xr-var-name span,\n.xr-var-data,\n.xr-index-name div,\n.xr-index-data,\n.xr-attrs {\n  padding-left: 25px !important;\n}\n\n.xr-attrs,\n.xr-var-attrs,\n.xr-var-data,\n.xr-index-data {\n  grid-column: 1 / -1;\n}\n\ndl.xr-attrs {\n  padding: 0;\n  margin: 0;\n  display: grid;\n  grid-template-columns: 125px auto;\n}\n\n.xr-attrs dt,\n.xr-attrs dd {\n  padding: 0;\n  margin: 0;\n  float: left;\n  padding-right: 10px;\n  width: auto;\n}\n\n.xr-attrs dt {\n  font-weight: normal;\n  grid-column: 1;\n}\n\n.xr-attrs dt:hover span {\n  display: inline-block;\n  background: var(--xr-background-color);\n  padding-right: 10px;\n}\n\n.xr-attrs dd {\n  grid-column: 2;\n  white-space: pre-wrap;\n  word-break: break-all;\n}\n\n.xr-icon-database,\n.xr-icon-file-text2,\n.xr-no-icon {\n  display: inline-block;\n  vertical-align: middle;\n  width: 1em;\n  height: 1.5em !important;\n  stroke-width: 0;\n  stroke: currentColor;\n  fill: currentColor;\n}\n</style><pre class='xr-text-repr-fallback'>&lt;xarray.Dataset&gt;\nDimensions:    (x1: 4200, x2: 6600)\nCoordinates:\n  * x1         (x1) float64 0.6363 0.6361 0.636 ... 0.0002273 7.576e-05\n  * x2         (x2) float64 7.576e-05 0.0002273 0.0003788 ... 0.9998 0.9999\nData variables:\n    elevation  (x1, x2) float32 -0.921 -0.921 -0.921 ... -0.8095 -0.8095 -0.8099\n    tpi        (x1, x2) float32 -0.09401 -0.09401 -0.09401 ... -0.09305 -0.09199</pre><div class='xr-wrap' style='display:none'><div class='xr-header'><div class='xr-obj-type'>xarray.Dataset</div></div><ul class='xr-sections'><li class='xr-section-item'><input id='section-773ca7d5-bd1e-4156-a59d-03cdbbc90b79' class='xr-section-summary-in' type='checkbox' disabled ><label for='section-773ca7d5-bd1e-4156-a59d-03cdbbc90b79' class='xr-section-summary'  title='Expand/collapse section'>Dimensions:</label><div class='xr-section-inline-details'><ul class='xr-dim-list'><li><span class='xr-has-index'>x1</span>: 4200</li><li><span class='xr-has-index'>x2</span>: 6600</li></ul></div><div class='xr-section-details'></div></li><li class='xr-section-item'><input id='section-8e07b7ff-9e8b-4726-9db9-a633413758f4' class='xr-section-summary-in' type='checkbox'  checked><label for='section-8e07b7ff-9e8b-4726-9db9-a633413758f4' class='xr-section-summary' >Coordinates: <span>(2)</span></label><div class='xr-section-inline-details'></div><div class='xr-section-details'><ul class='xr-var-list'><li class='xr-var-item'><div class='xr-var-name'><span class='xr-has-index'>x1</span></div><div class='xr-var-dims'>(x1)</div><div class='xr-var-dtype'>float64</div><div class='xr-var-preview xr-preview'>0.6363 0.6361 ... 7.576e-05</div><input id='attrs-cc128158-c1f6-43f0-8bcb-95a04b74286a' class='xr-var-attrs-in' type='checkbox' disabled><label for='attrs-cc128158-c1f6-43f0-8bcb-95a04b74286a' title='Show/Hide attributes'><svg class='icon xr-icon-file-text2'><use xlink:href='#icon-file-text2'></use></svg></label><input id='data-ef9d98b8-aac8-4926-a6bf-25f0698e35fb' class='xr-var-data-in' type='checkbox'><label for='data-ef9d98b8-aac8-4926-a6bf-25f0698e35fb' title='Show/Hide data repr'><svg class='icon xr-icon-database'><use xlink:href='#icon-database'></use></svg></label><div class='xr-var-attrs'><dl class='xr-attrs'></dl></div><div class='xr-var-data'><pre>array([6.362879e-01, 6.361364e-01, 6.359848e-01, ..., 3.787879e-04,\n       2.272727e-04, 7.575758e-05])</pre></div></li><li class='xr-var-item'><div class='xr-var-name'><span class='xr-has-index'>x2</span></div><div class='xr-var-dims'>(x2)</div><div class='xr-var-dtype'>float64</div><div class='xr-var-preview xr-preview'>7.576e-05 0.0002273 ... 0.9999</div><input id='attrs-db51bc10-e59c-4427-af8e-2b229ad1598e' class='xr-var-attrs-in' type='checkbox' disabled><label for='attrs-db51bc10-e59c-4427-af8e-2b229ad1598e' title='Show/Hide attributes'><svg class='icon xr-icon-file-text2'><use xlink:href='#icon-file-text2'></use></svg></label><input id='data-a3c0dc28-1962-4c3a-9e69-5c377d9234fb' class='xr-var-data-in' type='checkbox'><label for='data-a3c0dc28-1962-4c3a-9e69-5c377d9234fb' title='Show/Hide data repr'><svg class='icon xr-icon-database'><use xlink:href='#icon-database'></use></svg></label><div class='xr-var-attrs'><dl class='xr-attrs'></dl></div><div class='xr-var-data'><pre>array([7.575758e-05, 2.272727e-04, 3.787879e-04, ..., 9.996212e-01,\n       9.997727e-01, 9.999242e-01])</pre></div></li></ul></div></li><li class='xr-section-item'><input id='section-513e136b-4226-4c43-9a00-1767a63c7372' class='xr-section-summary-in' type='checkbox'  checked><label for='section-513e136b-4226-4c43-9a00-1767a63c7372' class='xr-section-summary' >Data variables: <span>(2)</span></label><div class='xr-section-inline-details'></div><div class='xr-section-details'><ul class='xr-var-list'><li class='xr-var-item'><div class='xr-var-name'><span>elevation</span></div><div class='xr-var-dims'>(x1, x2)</div><div class='xr-var-dtype'>float32</div><div class='xr-var-preview xr-preview'>-0.921 -0.921 ... -0.8095 -0.8099</div><input id='attrs-7d252fdf-8179-496b-ba74-d3fd87816fcf' class='xr-var-attrs-in' type='checkbox' disabled><label for='attrs-7d252fdf-8179-496b-ba74-d3fd87816fcf' title='Show/Hide attributes'><svg class='icon xr-icon-file-text2'><use xlink:href='#icon-file-text2'></use></svg></label><input id='data-783b2798-a76b-4c6f-be71-94990a1a2d64' class='xr-var-data-in' type='checkbox'><label for='data-783b2798-a76b-4c6f-be71-94990a1a2d64' title='Show/Hide data repr'><svg class='icon xr-icon-database'><use xlink:href='#icon-database'></use></svg></label><div class='xr-var-attrs'><dl class='xr-attrs'></dl></div><div class='xr-var-data'><pre>array([[-0.92104805, -0.92104805, -0.92104805, ..., -0.92104805,\n        -0.92104805, -0.92104805],\n       [-0.92104805, -0.92104805, -0.92104805, ..., -0.92104805,\n        -0.92104805, -0.92104805],\n       [-0.92104805, -0.92104805, -0.92104805, ..., -0.92104805,\n        -0.92104805, -0.92104805],\n       ...,\n       [-0.92104805, -0.92104805, -0.92104805, ..., -0.8093372 ,\n        -0.80907065, -0.80955046],\n       [-0.92104805, -0.92104805, -0.92104805, ..., -0.8094705 ,\n        -0.8091773 , -0.8100036 ],\n       [-0.92104805, -0.92104805, -0.92104805, ..., -0.8094971 ,\n        -0.80952376, -0.8099236 ]], dtype=float32)</pre></div></li><li class='xr-var-item'><div class='xr-var-name'><span>tpi</span></div><div class='xr-var-dims'>(x1, x2)</div><div class='xr-var-dtype'>float32</div><div class='xr-var-preview xr-preview'>-0.09401 -0.09401 ... -0.09199</div><input id='attrs-520d0ff3-c698-4fef-abd5-32f4d073328d' class='xr-var-attrs-in' type='checkbox' disabled><label for='attrs-520d0ff3-c698-4fef-abd5-32f4d073328d' title='Show/Hide attributes'><svg class='icon xr-icon-file-text2'><use xlink:href='#icon-file-text2'></use></svg></label><input id='data-d85183bf-ed0b-4c86-a9f6-86cfd1563f23' class='xr-var-data-in' type='checkbox'><label for='data-d85183bf-ed0b-4c86-a9f6-86cfd1563f23' title='Show/Hide data repr'><svg class='icon xr-icon-database'><use xlink:href='#icon-database'></use></svg></label><div class='xr-var-attrs'><dl class='xr-attrs'></dl></div><div class='xr-var-data'><pre>array([[-0.0940097 , -0.0940097 , -0.0940097 , ..., -0.0940097 ,\n        -0.0940097 , -0.0940097 ],\n       [-0.0940097 , -0.0940097 , -0.0940097 , ..., -0.0940097 ,\n        -0.0940097 , -0.0940097 ],\n       [-0.0940097 , -0.0940097 , -0.0940097 , ..., -0.0940097 ,\n        -0.0940097 , -0.0940097 ],\n       ...,\n       [-0.0940097 , -0.0940097 , -0.0940097 , ..., -0.08949416,\n        -0.09103137, -0.09256858],\n       [-0.0940097 , -0.0940097 , -0.0940097 , ..., -0.09199212,\n        -0.09439401, -0.09804487],\n       [-0.0940097 , -0.0940097 , -0.0940097 , ..., -0.09352933,\n        -0.09304895, -0.09199212]], dtype=float32)</pre></div></li></ul></div></li><li class='xr-section-item'><input id='section-88a37b34-ff97-4488-8ca9-c9c5e3d1afc8' class='xr-section-summary-in' type='checkbox'  ><label for='section-88a37b34-ff97-4488-8ca9-c9c5e3d1afc8' class='xr-section-summary' >Indexes: <span>(2)</span></label><div class='xr-section-inline-details'></div><div class='xr-section-details'><ul class='xr-var-list'><li class='xr-var-item'><div class='xr-index-name'><div>x1</div></div><div class='xr-index-preview'>PandasIndex</div><div></div><input id='index-9576d284-5c0b-45e3-bd2f-e291a1ffaaee' class='xr-index-data-in' type='checkbox'/><label for='index-9576d284-5c0b-45e3-bd2f-e291a1ffaaee' title='Show/Hide index repr'><svg class='icon xr-icon-database'><use xlink:href='#icon-database'></use></svg></label><div class='xr-index-data'><pre>PandasIndex(Index([    0.6362878787878788,     0.6361363636363638,     0.6359848484848486,\n           0.6358333333333333,     0.6356818181818182,      0.635530303030303,\n            0.635378787878788,     0.6352272727272728,     0.6350757575757577,\n           0.6349242424242424,\n       ...\n        0.0014393939393940514,  0.0012878787878789085,  0.0011363636363637655,\n        0.0009848484848486226,  0.0008333333333333505,  0.0006818181818182077,\n        0.0005303030303030647, 0.00037878787878792183, 0.00022727272727277896,\n        7.575757575763605e-05],\n      dtype=&#x27;float64&#x27;, name=&#x27;x1&#x27;, length=4200))</pre></div></li><li class='xr-var-item'><div class='xr-index-name'><div>x2</div></div><div class='xr-index-preview'>PandasIndex</div><div></div><input id='index-52552516-beb5-4572-a57d-47f4c6ce7c90' class='xr-index-data-in' type='checkbox'/><label for='index-52552516-beb5-4572-a57d-47f4c6ce7c90' title='Show/Hide index repr'><svg class='icon xr-icon-database'><use xlink:href='#icon-database'></use></svg></label><div class='xr-index-data'><pre>PandasIndex(Index([ 7.575757575750686e-05, 0.00022727272727252057,  0.0003787878787875343,\n        0.0005303030303030647,  0.0006818181818180784,  0.0008333333333330922,\n        0.0009848484848486226,  0.0011363636363636363,    0.00128787878787865,\n        0.0014393939393936637,\n       ...\n           0.9985606060606058,     0.9987121212121208,     0.9988636363636364,\n           0.9990151515151514,     0.9991666666666664,     0.9993181818181819,\n           0.9994696969696969,     0.9996212121212119,     0.9997727272727269,\n           0.9999242424242425],\n      dtype=&#x27;float64&#x27;, name=&#x27;x2&#x27;, length=6600))</pre></div></li></ul></div></li><li class='xr-section-item'><input id='section-4de37592-5b99-4999-a967-e8494f2dc378' class='xr-section-summary-in' type='checkbox' disabled ><label for='section-4de37592-5b99-4999-a967-e8494f2dc378' class='xr-section-summary'  title='Expand/collapse section'>Attributes: <span>(0)</span></label><div class='xr-section-inline-details'></div><div class='xr-section-details'><dl class='xr-attrs'></dl></div></li></ul></div></div>"
     },
     "execution_count": 7,
     "metadata": {},
     "output_type": "execute_result"
    }
   ],
   "source": [
    "aux_ds, land_mask_ds = data_processor([aux_raw_ds, land_mask_raw_ds], method=\"min_max\")\n",
    "aux_ds"
   ]
  },
  {
   "cell_type": "markdown",
   "metadata": {},
   "source": [
    "## DataProcessor configuration\n",
    "The `DataProcessor` keeps track of the normalisation parameters used to transform the data.\n",
    "\n",
    "When the `DataProcessor` is called on data with a variable ID that matches one in the `config` dictionary, those normalisation parameters are used."
   ]
  },
  {
   "cell_type": "code",
   "execution_count": 8,
   "metadata": {
    "ExecuteTime": {
     "end_time": "2023-11-01T11:20:02.396826598Z",
     "start_time": "2023-11-01T11:20:02.274636322Z"
    }
   },
   "outputs": [
    {
     "name": "stdout",
     "output_type": "stream",
     "text": [
      "DataProcessor with normalisation params:\n",
      "{'10m_u_component_of_wind': {'method': 'mean_std',\n",
      "                             'params': {'mean': 0.644899845123291,\n",
      "                                        'std': 2.8509252071380615}},\n",
      " '10m_v_component_of_wind': {'method': 'mean_std',\n",
      "                             'params': {'mean': -0.19969606399536133,\n",
      "                                        'std': 3.2448606491088867}},\n",
      " '2m_temperature': {'method': 'mean_std',\n",
      "                    'params': {'mean': 289.39849853515625,\n",
      "                               'std': 5.538551330566406}},\n",
      " 'GLDAS_mask': {'method': 'min_max', 'params': {'max': 1.0, 'min': 0.0}},\n",
      " 'PRCP': {'method': 'mean_std',\n",
      "          'params': {'mean': 1.1604694953552597, 'std': 4.172541647864038}},\n",
      " 'TAVG': {'method': 'mean_std',\n",
      "          'params': {'mean': 19.0613726868119, 'std': 5.188503809362459}},\n",
      " 'coords': {'time': {'name': 'time'},\n",
      "            'x1': {'map': (35.0, 90.0), 'name': 'lat'},\n",
      "            'x2': {'map': (-15.0, 40.0), 'name': 'lon'}},\n",
      " 'elevation': {'method': 'min_max',\n",
      "               'params': {'max': 4504.4375, 'min': -185.125}},\n",
      " 'tpi': {'method': 'min_max', 'params': {'max': 88.9609375, 'min': -73.671875}}}\n"
     ]
    }
   ],
   "source": [
    "print(data_processor)"
   ]
  },
  {
   "cell_type": "markdown",
   "metadata": {},
   "source": [
    "## Unnormalising data\n",
    "\n",
    "Keeping track of the normalisation parameters allows us to easily unnormalise data back to the original coordinates and units:\n"
   ]
  },
  {
   "cell_type": "code",
   "execution_count": 9,
   "metadata": {
    "ExecuteTime": {
     "end_time": "2023-11-01T11:20:02.417875281Z",
     "start_time": "2023-11-01T11:20:02.285187475Z"
    }
   },
   "outputs": [
    {
     "data": {
      "text/plain": "<xarray.Dataset>\nDimensions:                  (time: 6, lat: 141, lon: 221)\nCoordinates:\n  * time                     (time) datetime64[ns] 2015-06-25 ... 2015-06-30\n  * lat                      (lat) float32 70.0 69.75 69.5 ... 35.5 35.25 35.0\n  * lon                      (lon) float32 -15.0 -14.75 -14.5 ... 39.75 40.0\nData variables:\n    2m_temperature           (time, lat, lon) float32 274.7 274.8 ... 302.3\n    10m_u_component_of_wind  (time, lat, lon) float32 6.309 6.305 ... 5.004\n    10m_v_component_of_wind  (time, lat, lon) float32 3.221 3.105 ... -2.549",
      "text/html": "<div><svg style=\"position: absolute; width: 0; height: 0; overflow: hidden\">\n<defs>\n<symbol id=\"icon-database\" viewBox=\"0 0 32 32\">\n<path d=\"M16 0c-8.837 0-16 2.239-16 5v4c0 2.761 7.163 5 16 5s16-2.239 16-5v-4c0-2.761-7.163-5-16-5z\"></path>\n<path d=\"M16 17c-8.837 0-16-2.239-16-5v6c0 2.761 7.163 5 16 5s16-2.239 16-5v-6c0 2.761-7.163 5-16 5z\"></path>\n<path d=\"M16 26c-8.837 0-16-2.239-16-5v6c0 2.761 7.163 5 16 5s16-2.239 16-5v-6c0 2.761-7.163 5-16 5z\"></path>\n</symbol>\n<symbol id=\"icon-file-text2\" viewBox=\"0 0 32 32\">\n<path d=\"M28.681 7.159c-0.694-0.947-1.662-2.053-2.724-3.116s-2.169-2.030-3.116-2.724c-1.612-1.182-2.393-1.319-2.841-1.319h-15.5c-1.378 0-2.5 1.121-2.5 2.5v27c0 1.378 1.122 2.5 2.5 2.5h23c1.378 0 2.5-1.122 2.5-2.5v-19.5c0-0.448-0.137-1.23-1.319-2.841zM24.543 5.457c0.959 0.959 1.712 1.825 2.268 2.543h-4.811v-4.811c0.718 0.556 1.584 1.309 2.543 2.268zM28 29.5c0 0.271-0.229 0.5-0.5 0.5h-23c-0.271 0-0.5-0.229-0.5-0.5v-27c0-0.271 0.229-0.5 0.5-0.5 0 0 15.499-0 15.5 0v7c0 0.552 0.448 1 1 1h7v19.5z\"></path>\n<path d=\"M23 26h-14c-0.552 0-1-0.448-1-1s0.448-1 1-1h14c0.552 0 1 0.448 1 1s-0.448 1-1 1z\"></path>\n<path d=\"M23 22h-14c-0.552 0-1-0.448-1-1s0.448-1 1-1h14c0.552 0 1 0.448 1 1s-0.448 1-1 1z\"></path>\n<path d=\"M23 18h-14c-0.552 0-1-0.448-1-1s0.448-1 1-1h14c0.552 0 1 0.448 1 1s-0.448 1-1 1z\"></path>\n</symbol>\n</defs>\n</svg>\n<style>/* CSS stylesheet for displaying xarray objects in jupyterlab.\n *\n */\n\n:root {\n  --xr-font-color0: var(--jp-content-font-color0, rgba(0, 0, 0, 1));\n  --xr-font-color2: var(--jp-content-font-color2, rgba(0, 0, 0, 0.54));\n  --xr-font-color3: var(--jp-content-font-color3, rgba(0, 0, 0, 0.38));\n  --xr-border-color: var(--jp-border-color2, #e0e0e0);\n  --xr-disabled-color: var(--jp-layout-color3, #bdbdbd);\n  --xr-background-color: var(--jp-layout-color0, white);\n  --xr-background-color-row-even: var(--jp-layout-color1, white);\n  --xr-background-color-row-odd: var(--jp-layout-color2, #eeeeee);\n}\n\nhtml[theme=dark],\nbody[data-theme=dark],\nbody.vscode-dark {\n  --xr-font-color0: rgba(255, 255, 255, 1);\n  --xr-font-color2: rgba(255, 255, 255, 0.54);\n  --xr-font-color3: rgba(255, 255, 255, 0.38);\n  --xr-border-color: #1F1F1F;\n  --xr-disabled-color: #515151;\n  --xr-background-color: #111111;\n  --xr-background-color-row-even: #111111;\n  --xr-background-color-row-odd: #313131;\n}\n\n.xr-wrap {\n  display: block !important;\n  min-width: 300px;\n  max-width: 700px;\n}\n\n.xr-text-repr-fallback {\n  /* fallback to plain text repr when CSS is not injected (untrusted notebook) */\n  display: none;\n}\n\n.xr-header {\n  padding-top: 6px;\n  padding-bottom: 6px;\n  margin-bottom: 4px;\n  border-bottom: solid 1px var(--xr-border-color);\n}\n\n.xr-header > div,\n.xr-header > ul {\n  display: inline;\n  margin-top: 0;\n  margin-bottom: 0;\n}\n\n.xr-obj-type,\n.xr-array-name {\n  margin-left: 2px;\n  margin-right: 10px;\n}\n\n.xr-obj-type {\n  color: var(--xr-font-color2);\n}\n\n.xr-sections {\n  padding-left: 0 !important;\n  display: grid;\n  grid-template-columns: 150px auto auto 1fr 20px 20px;\n}\n\n.xr-section-item {\n  display: contents;\n}\n\n.xr-section-item input {\n  display: none;\n}\n\n.xr-section-item input + label {\n  color: var(--xr-disabled-color);\n}\n\n.xr-section-item input:enabled + label {\n  cursor: pointer;\n  color: var(--xr-font-color2);\n}\n\n.xr-section-item input:enabled + label:hover {\n  color: var(--xr-font-color0);\n}\n\n.xr-section-summary {\n  grid-column: 1;\n  color: var(--xr-font-color2);\n  font-weight: 500;\n}\n\n.xr-section-summary > span {\n  display: inline-block;\n  padding-left: 0.5em;\n}\n\n.xr-section-summary-in:disabled + label {\n  color: var(--xr-font-color2);\n}\n\n.xr-section-summary-in + label:before {\n  display: inline-block;\n  content: '►';\n  font-size: 11px;\n  width: 15px;\n  text-align: center;\n}\n\n.xr-section-summary-in:disabled + label:before {\n  color: var(--xr-disabled-color);\n}\n\n.xr-section-summary-in:checked + label:before {\n  content: '▼';\n}\n\n.xr-section-summary-in:checked + label > span {\n  display: none;\n}\n\n.xr-section-summary,\n.xr-section-inline-details {\n  padding-top: 4px;\n  padding-bottom: 4px;\n}\n\n.xr-section-inline-details {\n  grid-column: 2 / -1;\n}\n\n.xr-section-details {\n  display: none;\n  grid-column: 1 / -1;\n  margin-bottom: 5px;\n}\n\n.xr-section-summary-in:checked ~ .xr-section-details {\n  display: contents;\n}\n\n.xr-array-wrap {\n  grid-column: 1 / -1;\n  display: grid;\n  grid-template-columns: 20px auto;\n}\n\n.xr-array-wrap > label {\n  grid-column: 1;\n  vertical-align: top;\n}\n\n.xr-preview {\n  color: var(--xr-font-color3);\n}\n\n.xr-array-preview,\n.xr-array-data {\n  padding: 0 5px !important;\n  grid-column: 2;\n}\n\n.xr-array-data,\n.xr-array-in:checked ~ .xr-array-preview {\n  display: none;\n}\n\n.xr-array-in:checked ~ .xr-array-data,\n.xr-array-preview {\n  display: inline-block;\n}\n\n.xr-dim-list {\n  display: inline-block !important;\n  list-style: none;\n  padding: 0 !important;\n  margin: 0;\n}\n\n.xr-dim-list li {\n  display: inline-block;\n  padding: 0;\n  margin: 0;\n}\n\n.xr-dim-list:before {\n  content: '(';\n}\n\n.xr-dim-list:after {\n  content: ')';\n}\n\n.xr-dim-list li:not(:last-child):after {\n  content: ',';\n  padding-right: 5px;\n}\n\n.xr-has-index {\n  font-weight: bold;\n}\n\n.xr-var-list,\n.xr-var-item {\n  display: contents;\n}\n\n.xr-var-item > div,\n.xr-var-item label,\n.xr-var-item > .xr-var-name span {\n  background-color: var(--xr-background-color-row-even);\n  margin-bottom: 0;\n}\n\n.xr-var-item > .xr-var-name:hover span {\n  padding-right: 5px;\n}\n\n.xr-var-list > li:nth-child(odd) > div,\n.xr-var-list > li:nth-child(odd) > label,\n.xr-var-list > li:nth-child(odd) > .xr-var-name span {\n  background-color: var(--xr-background-color-row-odd);\n}\n\n.xr-var-name {\n  grid-column: 1;\n}\n\n.xr-var-dims {\n  grid-column: 2;\n}\n\n.xr-var-dtype {\n  grid-column: 3;\n  text-align: right;\n  color: var(--xr-font-color2);\n}\n\n.xr-var-preview {\n  grid-column: 4;\n}\n\n.xr-index-preview {\n  grid-column: 2 / 5;\n  color: var(--xr-font-color2);\n}\n\n.xr-var-name,\n.xr-var-dims,\n.xr-var-dtype,\n.xr-preview,\n.xr-attrs dt {\n  white-space: nowrap;\n  overflow: hidden;\n  text-overflow: ellipsis;\n  padding-right: 10px;\n}\n\n.xr-var-name:hover,\n.xr-var-dims:hover,\n.xr-var-dtype:hover,\n.xr-attrs dt:hover {\n  overflow: visible;\n  width: auto;\n  z-index: 1;\n}\n\n.xr-var-attrs,\n.xr-var-data,\n.xr-index-data {\n  display: none;\n  background-color: var(--xr-background-color) !important;\n  padding-bottom: 5px !important;\n}\n\n.xr-var-attrs-in:checked ~ .xr-var-attrs,\n.xr-var-data-in:checked ~ .xr-var-data,\n.xr-index-data-in:checked ~ .xr-index-data {\n  display: block;\n}\n\n.xr-var-data > table {\n  float: right;\n}\n\n.xr-var-name span,\n.xr-var-data,\n.xr-index-name div,\n.xr-index-data,\n.xr-attrs {\n  padding-left: 25px !important;\n}\n\n.xr-attrs,\n.xr-var-attrs,\n.xr-var-data,\n.xr-index-data {\n  grid-column: 1 / -1;\n}\n\ndl.xr-attrs {\n  padding: 0;\n  margin: 0;\n  display: grid;\n  grid-template-columns: 125px auto;\n}\n\n.xr-attrs dt,\n.xr-attrs dd {\n  padding: 0;\n  margin: 0;\n  float: left;\n  padding-right: 10px;\n  width: auto;\n}\n\n.xr-attrs dt {\n  font-weight: normal;\n  grid-column: 1;\n}\n\n.xr-attrs dt:hover span {\n  display: inline-block;\n  background: var(--xr-background-color);\n  padding-right: 10px;\n}\n\n.xr-attrs dd {\n  grid-column: 2;\n  white-space: pre-wrap;\n  word-break: break-all;\n}\n\n.xr-icon-database,\n.xr-icon-file-text2,\n.xr-no-icon {\n  display: inline-block;\n  vertical-align: middle;\n  width: 1em;\n  height: 1.5em !important;\n  stroke-width: 0;\n  stroke: currentColor;\n  fill: currentColor;\n}\n</style><pre class='xr-text-repr-fallback'>&lt;xarray.Dataset&gt;\nDimensions:                  (time: 6, lat: 141, lon: 221)\nCoordinates:\n  * time                     (time) datetime64[ns] 2015-06-25 ... 2015-06-30\n  * lat                      (lat) float32 70.0 69.75 69.5 ... 35.5 35.25 35.0\n  * lon                      (lon) float32 -15.0 -14.75 -14.5 ... 39.75 40.0\nData variables:\n    2m_temperature           (time, lat, lon) float32 274.7 274.8 ... 302.3\n    10m_u_component_of_wind  (time, lat, lon) float32 6.309 6.305 ... 5.004\n    10m_v_component_of_wind  (time, lat, lon) float32 3.221 3.105 ... -2.549</pre><div class='xr-wrap' style='display:none'><div class='xr-header'><div class='xr-obj-type'>xarray.Dataset</div></div><ul class='xr-sections'><li class='xr-section-item'><input id='section-180bccc5-2a7b-4e2f-a067-7a7abdd35268' class='xr-section-summary-in' type='checkbox' disabled ><label for='section-180bccc5-2a7b-4e2f-a067-7a7abdd35268' class='xr-section-summary'  title='Expand/collapse section'>Dimensions:</label><div class='xr-section-inline-details'><ul class='xr-dim-list'><li><span class='xr-has-index'>time</span>: 6</li><li><span class='xr-has-index'>lat</span>: 141</li><li><span class='xr-has-index'>lon</span>: 221</li></ul></div><div class='xr-section-details'></div></li><li class='xr-section-item'><input id='section-922bc53b-1ea3-4317-b4cd-928f33bb1d50' class='xr-section-summary-in' type='checkbox'  checked><label for='section-922bc53b-1ea3-4317-b4cd-928f33bb1d50' class='xr-section-summary' >Coordinates: <span>(3)</span></label><div class='xr-section-inline-details'></div><div class='xr-section-details'><ul class='xr-var-list'><li class='xr-var-item'><div class='xr-var-name'><span class='xr-has-index'>time</span></div><div class='xr-var-dims'>(time)</div><div class='xr-var-dtype'>datetime64[ns]</div><div class='xr-var-preview xr-preview'>2015-06-25 ... 2015-06-30</div><input id='attrs-b87d6418-cd0e-4d04-a8e8-d76537201b58' class='xr-var-attrs-in' type='checkbox' disabled><label for='attrs-b87d6418-cd0e-4d04-a8e8-d76537201b58' title='Show/Hide attributes'><svg class='icon xr-icon-file-text2'><use xlink:href='#icon-file-text2'></use></svg></label><input id='data-ab96ba89-0b9b-41dc-8101-622831aa13a8' class='xr-var-data-in' type='checkbox'><label for='data-ab96ba89-0b9b-41dc-8101-622831aa13a8' title='Show/Hide data repr'><svg class='icon xr-icon-database'><use xlink:href='#icon-database'></use></svg></label><div class='xr-var-attrs'><dl class='xr-attrs'></dl></div><div class='xr-var-data'><pre>array([&#x27;2015-06-25T00:00:00.000000000&#x27;, &#x27;2015-06-26T00:00:00.000000000&#x27;,\n       &#x27;2015-06-27T00:00:00.000000000&#x27;, &#x27;2015-06-28T00:00:00.000000000&#x27;,\n       &#x27;2015-06-29T00:00:00.000000000&#x27;, &#x27;2015-06-30T00:00:00.000000000&#x27;],\n      dtype=&#x27;datetime64[ns]&#x27;)</pre></div></li><li class='xr-var-item'><div class='xr-var-name'><span class='xr-has-index'>lat</span></div><div class='xr-var-dims'>(lat)</div><div class='xr-var-dtype'>float32</div><div class='xr-var-preview xr-preview'>70.0 69.75 69.5 ... 35.5 35.25 35.0</div><input id='attrs-1451f598-a72b-4818-b343-1fed4556a098' class='xr-var-attrs-in' type='checkbox' disabled><label for='attrs-1451f598-a72b-4818-b343-1fed4556a098' title='Show/Hide attributes'><svg class='icon xr-icon-file-text2'><use xlink:href='#icon-file-text2'></use></svg></label><input id='data-9d35ef9b-2ae5-426c-9f81-2d573f7e70a6' class='xr-var-data-in' type='checkbox'><label for='data-9d35ef9b-2ae5-426c-9f81-2d573f7e70a6' title='Show/Hide data repr'><svg class='icon xr-icon-database'><use xlink:href='#icon-database'></use></svg></label><div class='xr-var-attrs'><dl class='xr-attrs'></dl></div><div class='xr-var-data'><pre>array([70.  , 69.75, 69.5 , 69.25, 69.  , 68.75, 68.5 , 68.25, 68.  , 67.75,\n       67.5 , 67.25, 67.  , 66.75, 66.5 , 66.25, 66.  , 65.75, 65.5 , 65.25,\n       65.  , 64.75, 64.5 , 64.25, 64.  , 63.75, 63.5 , 63.25, 63.  , 62.75,\n       62.5 , 62.25, 62.  , 61.75, 61.5 , 61.25, 61.  , 60.75, 60.5 , 60.25,\n       60.  , 59.75, 59.5 , 59.25, 59.  , 58.75, 58.5 , 58.25, 58.  , 57.75,\n       57.5 , 57.25, 57.  , 56.75, 56.5 , 56.25, 56.  , 55.75, 55.5 , 55.25,\n       55.  , 54.75, 54.5 , 54.25, 54.  , 53.75, 53.5 , 53.25, 53.  , 52.75,\n       52.5 , 52.25, 52.  , 51.75, 51.5 , 51.25, 51.  , 50.75, 50.5 , 50.25,\n       50.  , 49.75, 49.5 , 49.25, 49.  , 48.75, 48.5 , 48.25, 48.  , 47.75,\n       47.5 , 47.25, 47.  , 46.75, 46.5 , 46.25, 46.  , 45.75, 45.5 , 45.25,\n       45.  , 44.75, 44.5 , 44.25, 44.  , 43.75, 43.5 , 43.25, 43.  , 42.75,\n       42.5 , 42.25, 42.  , 41.75, 41.5 , 41.25, 41.  , 40.75, 40.5 , 40.25,\n       40.  , 39.75, 39.5 , 39.25, 39.  , 38.75, 38.5 , 38.25, 38.  , 37.75,\n       37.5 , 37.25, 37.  , 36.75, 36.5 , 36.25, 36.  , 35.75, 35.5 , 35.25,\n       35.  ], dtype=float32)</pre></div></li><li class='xr-var-item'><div class='xr-var-name'><span class='xr-has-index'>lon</span></div><div class='xr-var-dims'>(lon)</div><div class='xr-var-dtype'>float32</div><div class='xr-var-preview xr-preview'>-15.0 -14.75 -14.5 ... 39.75 40.0</div><input id='attrs-560d8aeb-0f02-4f32-b2d3-b3aedc8341e4' class='xr-var-attrs-in' type='checkbox' disabled><label for='attrs-560d8aeb-0f02-4f32-b2d3-b3aedc8341e4' title='Show/Hide attributes'><svg class='icon xr-icon-file-text2'><use xlink:href='#icon-file-text2'></use></svg></label><input id='data-174cec0c-4c4c-4e79-9ecb-68cef8f5332c' class='xr-var-data-in' type='checkbox'><label for='data-174cec0c-4c4c-4e79-9ecb-68cef8f5332c' title='Show/Hide data repr'><svg class='icon xr-icon-database'><use xlink:href='#icon-database'></use></svg></label><div class='xr-var-attrs'><dl class='xr-attrs'></dl></div><div class='xr-var-data'><pre>array([-15.  , -14.75, -14.5 , ...,  39.5 ,  39.75,  40.  ], dtype=float32)</pre></div></li></ul></div></li><li class='xr-section-item'><input id='section-d7967dbe-e833-474a-8de6-cb2fefcf9f0c' class='xr-section-summary-in' type='checkbox'  checked><label for='section-d7967dbe-e833-474a-8de6-cb2fefcf9f0c' class='xr-section-summary' >Data variables: <span>(3)</span></label><div class='xr-section-inline-details'></div><div class='xr-section-details'><ul class='xr-var-list'><li class='xr-var-item'><div class='xr-var-name'><span>2m_temperature</span></div><div class='xr-var-dims'>(time, lat, lon)</div><div class='xr-var-dtype'>float32</div><div class='xr-var-preview xr-preview'>274.7 274.8 274.9 ... 301.8 302.3</div><input id='attrs-dce605d8-ccd1-4da6-87ff-5b2a5341437a' class='xr-var-attrs-in' type='checkbox' disabled><label for='attrs-dce605d8-ccd1-4da6-87ff-5b2a5341437a' title='Show/Hide attributes'><svg class='icon xr-icon-file-text2'><use xlink:href='#icon-file-text2'></use></svg></label><input id='data-4daea379-89f1-4000-908a-820442237fb1' class='xr-var-data-in' type='checkbox'><label for='data-4daea379-89f1-4000-908a-820442237fb1' title='Show/Hide data repr'><svg class='icon xr-icon-database'><use xlink:href='#icon-database'></use></svg></label><div class='xr-var-attrs'><dl class='xr-attrs'></dl></div><div class='xr-var-data'><pre>array([[[274.70828, 274.8052 , 274.89203, ..., 282.80472, 282.7596 ,\n         282.68246],\n        [274.91272, 274.9645 , 275.02475, ..., 283.0922 , 283.04663,\n         282.96866],\n        [275.19687, 275.249  , 275.30002, ..., 283.34262, 283.26163,\n         283.18387],\n        ...,\n        [293.41415, 293.37463, 293.31992, ..., 300.30933, 301.13376,\n         302.16898],\n        [293.53964, 293.461  , 293.3984 , ..., 299.87234, 301.0718 ,\n         302.49606],\n        [293.56833, 293.52408, 293.46017, ..., 301.63647, 302.208  ,\n         302.6838 ]],\n\n       [[275.2742 , 275.3317 , 275.3767 , ..., 281.3066 , 281.31528,\n         281.3296 ],\n        [275.79785, 275.80594, 275.81808, ..., 281.5466 , 281.55576,\n         281.57   ],\n        [276.35245, 276.35956, 276.36652, ..., 281.7767 , 281.77744,\n         281.8018 ],\n...\n        [293.36816, 293.23074, 293.0853 , ..., 300.36563, 301.2991 ,\n         302.37314],\n        [293.40247, 293.225  , 293.07278, ..., 300.0508 , 301.3251 ,\n         302.7498 ],\n        [293.37302, 293.21848, 293.07587, ..., 301.59915, 302.27087,\n         302.81064]],\n\n       [[276.43915, 276.42694, 276.41342, ..., 279.2529 , 279.22427,\n         279.21725],\n        [276.48703, 276.46442, 276.4463 , ..., 279.43713, 279.4083 ,\n         279.40152],\n        [276.59802, 276.57477, 276.55164, ..., 279.62643, 279.59555,\n         279.57266],\n        ...,\n        [294.0353 , 293.9642 , 293.91852, ..., 299.80585, 300.68835,\n         301.71274],\n        [294.10794, 294.00537, 293.94138, ..., 299.5942 , 300.85062,\n         302.23325],\n        [294.14474, 294.04956, 293.98392, ..., 301.15146, 301.77798,\n         302.26114]]], dtype=float32)</pre></div></li><li class='xr-var-item'><div class='xr-var-name'><span>10m_u_component_of_wind</span></div><div class='xr-var-dims'>(time, lat, lon)</div><div class='xr-var-dtype'>float32</div><div class='xr-var-preview xr-preview'>6.309 6.305 6.305 ... 5.128 5.004</div><input id='attrs-b6409514-b2ad-439e-a434-a947b15d98f2' class='xr-var-attrs-in' type='checkbox' disabled><label for='attrs-b6409514-b2ad-439e-a434-a947b15d98f2' title='Show/Hide attributes'><svg class='icon xr-icon-file-text2'><use xlink:href='#icon-file-text2'></use></svg></label><input id='data-50e0cf28-48e1-4bb9-bd8c-39717c395b7e' class='xr-var-data-in' type='checkbox'><label for='data-50e0cf28-48e1-4bb9-bd8c-39717c395b7e' title='Show/Hide data repr'><svg class='icon xr-icon-database'><use xlink:href='#icon-database'></use></svg></label><div class='xr-var-attrs'><dl class='xr-attrs'></dl></div><div class='xr-var-data'><pre>array([[[ 6.3088393 ,  6.304796  ,  6.3053493 , ...,  0.537299  ,\n          0.6050296 ,  0.68551046],\n        [ 6.375167  ,  6.391602  ,  6.4063096 , ...,  0.7180877 ,\n          0.7869594 ,  0.86806005],\n        [ 6.25262   ,  6.2690544 ,  6.2861094 , ...,  0.72731614,\n          0.8336894 ,  0.93497527],\n        ...,\n        [ 0.9515083 ,  0.92421407,  0.7963836 , ..., 11.123737  ,\n         10.960234  , 10.108662  ],\n        [ 0.98633575,  0.88596296,  0.7174354 , ..., 10.802271  ,\n         10.711876  ,  9.719692  ],\n        [ 1.0333263 ,  0.8280804 ,  0.58898556, ...,  9.303526  ,\n          9.348722  ,  9.081682  ]],\n\n       [[ 6.168392  ,  6.295642  ,  6.421902  , ...,  5.9764457 ,\n          6.0805016 ,  6.1554523 ],\n        [ 5.9011774 ,  6.0204067 ,  6.1451344 , ...,  6.2327685 ,\n          6.338357  ,  6.414042  ],\n        [ 5.0026946 ,  5.1224046 ,  5.2439675 , ...,  6.4411664 ,\n          6.506693  ,  6.557266  ],\n...\n        [-0.04734313, -0.01396269,  0.03920674, ...,  6.458807  ,\n          6.2103534 ,  5.7188663 ],\n        [-0.21999383, -0.18382919, -0.13356364, ...,  5.9795036 ,\n          5.822601  ,  5.2540236 ],\n        [-0.36848485, -0.3394752 , -0.28651536, ...,  4.9319844 ,\n          5.074786  ,  4.9961705 ]],\n\n       [[-1.8712993 , -1.9839368 , -2.082491  , ...,  6.008571  ,\n          6.0740967 ,  6.1163483 ],\n        [-2.4660199 , -2.5048742 , -2.567129  , ...,  6.2650356 ,\n          6.3314967 ,  6.3739033 ],\n        [-3.1323118 , -3.16992   , -3.206344  , ...,  6.3136115 ,\n          6.4002934 ,  6.454697  ],\n        ...,\n        [ 3.9259107 ,  3.8371398 ,  3.6467314 , ...,  6.601328  ,\n          6.3775167 ,  5.851875  ],\n        [ 3.7080822 ,  3.5044622 ,  3.2909021 , ...,  6.0302253 ,\n          5.93541   ,  5.3589797 ],\n        [ 3.422266  ,  3.1731856 ,  2.9543295 , ...,  4.991529  ,\n          5.1275043 ,  5.003586  ]]], dtype=float32)</pre></div></li><li class='xr-var-item'><div class='xr-var-name'><span>10m_v_component_of_wind</span></div><div class='xr-var-dims'>(time, lat, lon)</div><div class='xr-var-dtype'>float32</div><div class='xr-var-preview xr-preview'>3.221 3.105 2.99 ... -2.724 -2.549</div><input id='attrs-5812dca6-c6bb-4f5c-b339-60281144fcdd' class='xr-var-attrs-in' type='checkbox' disabled><label for='attrs-5812dca6-c6bb-4f5c-b339-60281144fcdd' title='Show/Hide attributes'><svg class='icon xr-icon-file-text2'><use xlink:href='#icon-file-text2'></use></svg></label><input id='data-84748b37-20b8-44ca-b6dd-bdadabe862c6' class='xr-var-data-in' type='checkbox'><label for='data-84748b37-20b8-44ca-b6dd-bdadabe862c6' title='Show/Hide data repr'><svg class='icon xr-icon-database'><use xlink:href='#icon-database'></use></svg></label><div class='xr-var-attrs'><dl class='xr-attrs'></dl></div><div class='xr-var-data'><pre>array([[[ 3.220673  ,  3.1045206 ,  2.9900334 , ...,  4.4796734 ,\n          4.448715  ,  4.4620857 ],\n        [ 3.0731454 ,  2.9620154 ,  2.8499417 , ...,  4.866217  ,\n          4.8348694 ,  4.8484073 ],\n        [ 2.9483118 ,  2.8360436 ,  2.7237751 , ...,  5.1571097 ,\n          5.126428  ,  5.113113  ],\n        ...,\n        [-2.5558183 , -2.6723032 , -2.6935253 , ..., -2.5072443 ,\n         -3.0638678 , -3.0492764 ],\n        [-2.9305723 , -2.9996479 , -2.9810889 , ..., -4.2737947 ,\n         -4.0541687 , -3.4880571 ],\n        [-3.1682022 , -3.2081497 , -3.183488  , ..., -4.0444307 ,\n         -3.354539  , -2.8132    ]],\n\n       [[ 2.2868142 ,  2.1844525 ,  2.0852168 , ..., -2.4881196 ,\n         -2.2478147 , -1.9747777 ],\n        [ 2.5355628 ,  2.4719636 ,  2.380897  , ..., -1.9562466 ,\n         -1.7128439 , -1.4365996 ],\n        [ 2.7972224 ,  2.7352412 ,  2.672766  , ..., -1.4653838 ,\n         -1.2297935 , -0.99110603],\n...\n        [-4.0208755 , -4.369472  , -4.767941  , ..., -1.9468218 ,\n         -2.4218333 , -2.4403305 ],\n        [-4.1855593 , -4.529236  , -4.913369  , ..., -3.0480425 ,\n         -2.9349625 , -2.670683  ],\n        [-4.291382  , -4.646599  , -5.014392  , ..., -2.6781547 ,\n         -2.286337  , -2.0530987 ]],\n\n       [[ 0.32318056,  0.3375756 ,  0.34683442, ..., -4.727282  ,\n         -4.692105  , -4.587792  ],\n        [-0.09961464, -0.14462443, -0.15188955, ..., -4.574208  ,\n         -4.5385246 , -4.4330277 ],\n        [-0.436445  , -0.48490152, -0.5326823 , ..., -4.396534  ,\n         -4.3908906 , -4.318645  ],\n        ...,\n        [ 0.9670037 ,  0.9133432 ,  0.711948  , ..., -1.8439826 ,\n         -2.3329408 , -2.4252243 ],\n        [ 0.83704305,  0.744962  ,  0.49436653, ..., -3.0794895 ,\n         -3.0097103 , -2.8271368 ],\n        [ 0.5306583 ,  0.39211452,  0.10445043, ..., -3.0948305 ,\n         -2.7242765 , -2.5489004 ]]], dtype=float32)</pre></div></li></ul></div></li><li class='xr-section-item'><input id='section-d0543a9c-2d61-4d8b-81ee-fbe4e7de917e' class='xr-section-summary-in' type='checkbox'  ><label for='section-d0543a9c-2d61-4d8b-81ee-fbe4e7de917e' class='xr-section-summary' >Indexes: <span>(3)</span></label><div class='xr-section-inline-details'></div><div class='xr-section-details'><ul class='xr-var-list'><li class='xr-var-item'><div class='xr-index-name'><div>time</div></div><div class='xr-index-preview'>PandasIndex</div><div></div><input id='index-900d053b-e2fb-403e-8604-c04f9950e16d' class='xr-index-data-in' type='checkbox'/><label for='index-900d053b-e2fb-403e-8604-c04f9950e16d' title='Show/Hide index repr'><svg class='icon xr-icon-database'><use xlink:href='#icon-database'></use></svg></label><div class='xr-index-data'><pre>PandasIndex(DatetimeIndex([&#x27;2015-06-25&#x27;, &#x27;2015-06-26&#x27;, &#x27;2015-06-27&#x27;, &#x27;2015-06-28&#x27;,\n               &#x27;2015-06-29&#x27;, &#x27;2015-06-30&#x27;],\n              dtype=&#x27;datetime64[ns]&#x27;, name=&#x27;time&#x27;, freq=&#x27;D&#x27;))</pre></div></li><li class='xr-var-item'><div class='xr-index-name'><div>lat</div></div><div class='xr-index-preview'>PandasIndex</div><div></div><input id='index-3f3b5c1c-17ae-4780-9ecc-61aea3f4e95b' class='xr-index-data-in' type='checkbox'/><label for='index-3f3b5c1c-17ae-4780-9ecc-61aea3f4e95b' title='Show/Hide index repr'><svg class='icon xr-icon-database'><use xlink:href='#icon-database'></use></svg></label><div class='xr-index-data'><pre>PandasIndex(Index([ 70.0, 69.75,  69.5, 69.25,  69.0, 68.75,  68.5, 68.25,  68.0, 67.75,\n       ...\n       37.25,  37.0, 36.75,  36.5, 36.25,  36.0, 35.75,  35.5, 35.25,  35.0],\n      dtype=&#x27;float32&#x27;, name=&#x27;lat&#x27;, length=141))</pre></div></li><li class='xr-var-item'><div class='xr-index-name'><div>lon</div></div><div class='xr-index-preview'>PandasIndex</div><div></div><input id='index-944fdf72-c2a3-484a-8553-825b6ab09389' class='xr-index-data-in' type='checkbox'/><label for='index-944fdf72-c2a3-484a-8553-825b6ab09389' title='Show/Hide index repr'><svg class='icon xr-icon-database'><use xlink:href='#icon-database'></use></svg></label><div class='xr-index-data'><pre>PandasIndex(Index([ -15.0, -14.75,  -14.5, -14.25,  -14.0, -13.75,  -13.5, -13.25,  -13.0,\n       -12.75,\n       ...\n        37.75,   38.0,  38.25,   38.5,  38.75,   39.0,  39.25,   39.5,  39.75,\n         40.0],\n      dtype=&#x27;float32&#x27;, name=&#x27;lon&#x27;, length=221))</pre></div></li></ul></div></li><li class='xr-section-item'><input id='section-df0a2e3e-c944-4b38-933b-b355e6517fc2' class='xr-section-summary-in' type='checkbox' disabled ><label for='section-df0a2e3e-c944-4b38-933b-b355e6517fc2' class='xr-section-summary'  title='Expand/collapse section'>Attributes: <span>(0)</span></label><div class='xr-section-inline-details'></div><div class='xr-section-details'><dl class='xr-attrs'></dl></div></li></ul></div></div>"
     },
     "execution_count": 9,
     "metadata": {},
     "output_type": "execute_result"
    }
   ],
   "source": [
    "era5_raw_ds_unnormalised = data_processor.unnormalise(era5_ds)\n",
    "xr.testing.assert_allclose(era5_raw_ds, era5_raw_ds_unnormalised, atol=1e-6)\n",
    "era5_raw_ds_unnormalised"
   ]
  },
  {
   "cell_type": "code",
   "execution_count": 10,
   "metadata": {
    "ExecuteTime": {
     "end_time": "2023-11-01T11:20:02.499986673Z",
     "start_time": "2023-11-01T11:20:02.329694681Z"
    }
   },
   "outputs": [
    {
     "data": {
      "text/plain": "                                       PRCP  TAVG\ntime       lat    lon     station                \n2015-06-25 35.017 -1.450  AGM00060531   0.0  23.0\n           35.100 -1.850  AGE00147716   0.0  23.4\n           35.117  36.750 SYM00040030   NaN  25.4\n           35.167  2.317  AGM00060514   0.0  25.9\n           35.200 -0.617  AGM00060520   0.0  24.9\n...                                     ...   ...\n2015-06-30 45.933  7.700  ITM00016052   NaN   5.7\n           38.367 -0.500  SPM00008359   0.0  27.6\n           55.383  36.700 RSM00027611   0.0  17.2\n           59.080  17.860 SWE00138750   0.0   NaN\n           63.760  12.430 SWE00140158   0.6   NaN\n\n[16922 rows x 2 columns]",
      "text/html": "<div>\n<style scoped>\n    .dataframe tbody tr th:only-of-type {\n        vertical-align: middle;\n    }\n\n    .dataframe tbody tr th {\n        vertical-align: top;\n    }\n\n    .dataframe thead th {\n        text-align: right;\n    }\n</style>\n<table border=\"1\" class=\"dataframe\">\n  <thead>\n    <tr style=\"text-align: right;\">\n      <th></th>\n      <th></th>\n      <th></th>\n      <th></th>\n      <th>PRCP</th>\n      <th>TAVG</th>\n    </tr>\n    <tr>\n      <th>time</th>\n      <th>lat</th>\n      <th>lon</th>\n      <th>station</th>\n      <th></th>\n      <th></th>\n    </tr>\n  </thead>\n  <tbody>\n    <tr>\n      <th rowspan=\"5\" valign=\"top\">2015-06-25</th>\n      <th>35.017</th>\n      <th>-1.450</th>\n      <th>AGM00060531</th>\n      <td>0.0</td>\n      <td>23.0</td>\n    </tr>\n    <tr>\n      <th>35.100</th>\n      <th>-1.850</th>\n      <th>AGE00147716</th>\n      <td>0.0</td>\n      <td>23.4</td>\n    </tr>\n    <tr>\n      <th>35.117</th>\n      <th>36.750</th>\n      <th>SYM00040030</th>\n      <td>NaN</td>\n      <td>25.4</td>\n    </tr>\n    <tr>\n      <th>35.167</th>\n      <th>2.317</th>\n      <th>AGM00060514</th>\n      <td>0.0</td>\n      <td>25.9</td>\n    </tr>\n    <tr>\n      <th>35.200</th>\n      <th>-0.617</th>\n      <th>AGM00060520</th>\n      <td>0.0</td>\n      <td>24.9</td>\n    </tr>\n    <tr>\n      <th>...</th>\n      <th>...</th>\n      <th>...</th>\n      <th>...</th>\n      <td>...</td>\n      <td>...</td>\n    </tr>\n    <tr>\n      <th rowspan=\"5\" valign=\"top\">2015-06-30</th>\n      <th>45.933</th>\n      <th>7.700</th>\n      <th>ITM00016052</th>\n      <td>NaN</td>\n      <td>5.7</td>\n    </tr>\n    <tr>\n      <th>38.367</th>\n      <th>-0.500</th>\n      <th>SPM00008359</th>\n      <td>0.0</td>\n      <td>27.6</td>\n    </tr>\n    <tr>\n      <th>55.383</th>\n      <th>36.700</th>\n      <th>RSM00027611</th>\n      <td>0.0</td>\n      <td>17.2</td>\n    </tr>\n    <tr>\n      <th>59.080</th>\n      <th>17.860</th>\n      <th>SWE00138750</th>\n      <td>0.0</td>\n      <td>NaN</td>\n    </tr>\n    <tr>\n      <th>63.760</th>\n      <th>12.430</th>\n      <th>SWE00140158</th>\n      <td>0.6</td>\n      <td>NaN</td>\n    </tr>\n  </tbody>\n</table>\n<p>16922 rows × 2 columns</p>\n</div>"
     },
     "execution_count": 10,
     "metadata": {},
     "output_type": "execute_result"
    }
   ],
   "source": [
    "station_df_unnormalised = data_processor.unnormalise(station_df)\n",
    "pd.testing.assert_frame_equal(station_raw_df, station_df_unnormalised)\n",
    "station_df_unnormalised"
   ]
  },
  {
   "cell_type": "markdown",
   "metadata": {},
   "source": [
    "Notice how the units of the unnormalised data are the same as the original data.\n",
    "\n",
    "This functionality will be used under the hood\n",
    "later to map model predictions back to the original units!\n"
   ]
  },
  {
   "cell_type": "markdown",
   "metadata": {},
   "source": [
    "## Saving and loading a DataProcessor\n",
    "The `DataProcessor` configuration can be saved and loaded to avoid re-computing the normalisation parameters in new sessions.\n",
    "\n",
    "This is done using the `save` method to save the `DataProcessor` configuration to a folder, and then instantiating a new `DataProcessor` with the same folder will recover the same `DataProcessor` object."
   ]
  },
  {
   "cell_type": "code",
   "execution_count": 11,
   "metadata": {
    "ExecuteTime": {
     "end_time": "2023-11-01T11:20:02.500523450Z",
     "start_time": "2023-11-01T11:20:02.464060217Z"
    }
   },
   "outputs": [
    {
     "name": "stdout",
     "output_type": "stream",
     "text": [
      "DataProcessor with normalisation params:\n",
      "{'10m_u_component_of_wind': {'method': 'mean_std',\n",
      "                             'params': {'mean': 0.644899845123291,\n",
      "                                        'std': 2.8509252071380615}},\n",
      " '10m_v_component_of_wind': {'method': 'mean_std',\n",
      "                             'params': {'mean': -0.19969606399536133,\n",
      "                                        'std': 3.2448606491088867}},\n",
      " '2m_temperature': {'method': 'mean_std',\n",
      "                    'params': {'mean': 289.39849853515625,\n",
      "                               'std': 5.538551330566406}},\n",
      " 'GLDAS_mask': {'method': 'min_max', 'params': {'max': 1.0, 'min': 0.0}},\n",
      " 'PRCP': {'method': 'mean_std',\n",
      "          'params': {'mean': 1.1604694953552597, 'std': 4.172541647864038}},\n",
      " 'TAVG': {'method': 'mean_std',\n",
      "          'params': {'mean': 19.0613726868119, 'std': 5.188503809362459}},\n",
      " 'coords': {'time': {'name': 'time'},\n",
      "            'x1': {'map': (35.0, 90.0), 'name': 'lat'},\n",
      "            'x2': {'map': (-15.0, 40.0), 'name': 'lon'}},\n",
      " 'elevation': {'method': 'min_max',\n",
      "               'params': {'max': 4504.4375, 'min': -185.125}},\n",
      " 'tpi': {'method': 'min_max', 'params': {'max': 88.9609375, 'min': -73.671875}}}\n"
     ]
    }
   ],
   "source": [
    "data_processor.save(\"../deepsensor_config/\")\n",
    "data_processor2 = DataProcessor(\"../deepsensor_config/\")\n",
    "print(data_processor2)"
   ]
  },
  {
   "cell_type": "markdown",
   "source": [],
   "metadata": {
    "collapsed": false
   }
  },
  {
   "cell_type": "markdown",
   "source": [
    "### Computing normalisation parameters over a subset of the data\n",
    "\n",
    "Want to compute normalisation parameters only over a training period?\n",
    "No problem: just slice the data before passing it to the `DataProcessor`."
   ],
   "metadata": {
    "collapsed": false
   }
  },
  {
   "cell_type": "code",
   "execution_count": 12,
   "metadata": {
    "ExecuteTime": {
     "end_time": "2023-11-01T11:20:02.501038546Z",
     "start_time": "2023-11-01T11:20:02.477215334Z"
    }
   },
   "outputs": [],
   "source": [
    "_ = data_processor(era5_raw_ds.sel(time=slice(\"2015-06-25\", \"2015-06-27\")))\n",
    "era5_ds = data_processor(era5_raw_ds)  # Will use the normalisation parameters computed above when called on the full dataset"
   ]
  },
  {
   "cell_type": "code",
   "execution_count": 12,
   "outputs": [],
   "source": [],
   "metadata": {
    "collapsed": false,
    "ExecuteTime": {
     "end_time": "2023-11-01T11:20:02.593219766Z",
     "start_time": "2023-11-01T11:20:02.507040187Z"
    }
   }
  }
 ],
 "metadata": {
  "celltoolbar": "Edit Metadata",
  "kernelspec": {
   "display_name": "Python 3 (ipykernel)",
   "language": "python",
   "name": "python3"
  },
  "language_info": {
   "codemirror_mode": {
    "name": "ipython",
    "version": 3
   },
   "file_extension": ".py",
   "mimetype": "text/x-python",
   "name": "python",
   "nbconvert_exporter": "python",
   "pygments_lexer": "ipython3",
   "version": "3.8.10"
  }
 },
 "nbformat": 4,
 "nbformat_minor": 2
}
