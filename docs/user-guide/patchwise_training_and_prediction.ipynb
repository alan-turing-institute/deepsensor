{
 "cells": [
  {
   "cell_type": "markdown",
   "metadata": {},
   "source": [
    "# Patchwise Training & Prediction\n",
    "\n",
    "Environmental data can sometimes span large spatial areas. For example:\n",
    "\n",
    "- Modelling tasks based on data that span the entire globe\n",
    "- Modelling tasks with high-resolution data\n",
    "\n",
    "In such cases, training and inference with a ConvNP over the entire region of data may be computationally prohibitive. However, we can resort to patchwise training, where the `TaskLoader` does not provide data of the entire region but instead creates smaller patches that are computationally feasible.\n",
    "\n",
    "The goal of the notebook is to demonstrate patchwise training and inference."
   ]
  },
  {
   "cell_type": "code",
   "execution_count": 1,
   "metadata": {},
   "outputs": [],
   "source": [
    "import logging\n",
    "\n",
    "logging.captureWarnings(True)\n",
    "\n",
    "import deepsensor.torch\n",
    "from deepsensor.model import ConvNP\n",
    "from deepsensor.train import Trainer, set_gpu_default_device\n",
    "from deepsensor.data import DataProcessor, TaskLoader, construct_circ_time_ds\n",
    "from deepsensor.data.sources import (\n",
    "    get_era5_reanalysis_data,\n",
    "    get_earthenv_auxiliary_data,\n",
    "    get_gldas_land_mask,\n",
    ")\n",
    "\n",
    "import xarray as xr\n",
    "import cartopy.crs as ccrs\n",
    "import matplotlib.pyplot as plt\n",
    "import pandas as pd\n",
    "import numpy as np\n",
    "from tqdm.notebook import tqdm"
   ]
  },
  {
   "cell_type": "code",
   "execution_count": 2,
   "metadata": {},
   "outputs": [],
   "source": [
    "# Training/data config\n",
    "data_range = (\"2010-01-01\", \"2019-12-31\")\n",
    "train_range = (\"2010-01-01\", \"2018-12-31\")\n",
    "val_range = (\"2019-01-01\", \"2019-12-31\")\n",
    "date_subsample_factor = 2\n",
    "extent = \"north_america\"\n",
    "era5_var_IDs = [\"2m_temperature\"]\n",
    "lowres_auxiliary_var_IDs = [\"elevation\"]\n",
    "cache_dir = \"../../.datacache\"\n",
    "deepsensor_folder = \"../deepsensor_config/\"\n",
    "verbose_download = True"
   ]
  },
  {
   "cell_type": "code",
   "execution_count": 3,
   "metadata": {},
   "outputs": [
    {
     "name": "stdout",
     "output_type": "stream",
     "text": [
      "Downloading ERA5 data from Google Cloud Storage... Using 8 CPUs out of 12... \n"
     ]
    },
    {
     "name": "stderr",
     "output_type": "stream",
     "text": [
      "  0%|          | 0/120 [02:54<?, ?it/s]\n"
     ]
    },
    {
     "ename": "KeyboardInterrupt",
     "evalue": "",
     "output_type": "error",
     "traceback": [
      "\u001b[0;31m---------------------------------------------------------------------------\u001b[0m",
      "\u001b[0;31mIndexError\u001b[0m                                Traceback (most recent call last)",
      "File \u001b[0;32m~/miniforge3/envs/deepsensor/lib/python3.11/multiprocessing/pool.py:856\u001b[0m, in \u001b[0;36mIMapIterator.next\u001b[0;34m(self, timeout)\u001b[0m\n\u001b[1;32m    855\u001b[0m \u001b[38;5;28;01mtry\u001b[39;00m:\n\u001b[0;32m--> 856\u001b[0m     item \u001b[38;5;241m=\u001b[39m \u001b[38;5;28;43mself\u001b[39;49m\u001b[38;5;241;43m.\u001b[39;49m\u001b[43m_items\u001b[49m\u001b[38;5;241;43m.\u001b[39;49m\u001b[43mpopleft\u001b[49m\u001b[43m(\u001b[49m\u001b[43m)\u001b[49m\n\u001b[1;32m    857\u001b[0m \u001b[38;5;28;01mexcept\u001b[39;00m \u001b[38;5;167;01mIndexError\u001b[39;00m:\n",
      "\u001b[0;31mIndexError\u001b[0m: pop from an empty deque",
      "\nDuring handling of the above exception, another exception occurred:\n",
      "\u001b[0;31mKeyboardInterrupt\u001b[0m                         Traceback (most recent call last)",
      "Cell \u001b[0;32mIn[3], line 1\u001b[0m\n\u001b[0;32m----> 1\u001b[0m era5_raw_ds \u001b[38;5;241m=\u001b[39m \u001b[43mget_era5_reanalysis_data\u001b[49m\u001b[43m(\u001b[49m\n\u001b[1;32m      2\u001b[0m \u001b[43m    \u001b[49m\u001b[43mera5_var_IDs\u001b[49m\u001b[43m,\u001b[49m\n\u001b[1;32m      3\u001b[0m \u001b[43m    \u001b[49m\u001b[43mextent\u001b[49m\u001b[43m,\u001b[49m\n\u001b[1;32m      4\u001b[0m \u001b[43m    \u001b[49m\u001b[43mdate_range\u001b[49m\u001b[38;5;241;43m=\u001b[39;49m\u001b[43mdata_range\u001b[49m\u001b[43m,\u001b[49m\n\u001b[1;32m      5\u001b[0m \u001b[43m    \u001b[49m\u001b[43mcache\u001b[49m\u001b[38;5;241;43m=\u001b[39;49m\u001b[38;5;28;43;01mTrue\u001b[39;49;00m\u001b[43m,\u001b[49m\n\u001b[1;32m      6\u001b[0m \u001b[43m    \u001b[49m\u001b[43mcache_dir\u001b[49m\u001b[38;5;241;43m=\u001b[39;49m\u001b[43mcache_dir\u001b[49m\u001b[43m,\u001b[49m\n\u001b[1;32m      7\u001b[0m \u001b[43m    \u001b[49m\u001b[43mverbose\u001b[49m\u001b[38;5;241;43m=\u001b[39;49m\u001b[43mverbose_download\u001b[49m\u001b[43m,\u001b[49m\n\u001b[1;32m      8\u001b[0m \u001b[43m    \u001b[49m\u001b[43mnum_processes\u001b[49m\u001b[38;5;241;43m=\u001b[39;49m\u001b[38;5;241;43m8\u001b[39;49m\u001b[43m,\u001b[49m\n\u001b[1;32m      9\u001b[0m \u001b[43m)\u001b[49m\n\u001b[1;32m     10\u001b[0m lowres_aux_raw_ds \u001b[38;5;241m=\u001b[39m get_earthenv_auxiliary_data(\n\u001b[1;32m     11\u001b[0m     lowres_auxiliary_var_IDs,\n\u001b[1;32m     12\u001b[0m     extent,\n\u001b[0;32m   (...)\u001b[0m\n\u001b[1;32m     16\u001b[0m     verbose\u001b[38;5;241m=\u001b[39mverbose_download,\n\u001b[1;32m     17\u001b[0m )\n\u001b[1;32m     18\u001b[0m land_mask_raw_ds \u001b[38;5;241m=\u001b[39m get_gldas_land_mask(\n\u001b[1;32m     19\u001b[0m     extent, cache\u001b[38;5;241m=\u001b[39m\u001b[38;5;28;01mTrue\u001b[39;00m, cache_dir\u001b[38;5;241m=\u001b[39mcache_dir, verbose\u001b[38;5;241m=\u001b[39mverbose_download\n\u001b[1;32m     20\u001b[0m )\n",
      "File \u001b[0;32m~/dit/deepsensor/deepsensor/data/sources.py:302\u001b[0m, in \u001b[0;36mget_era5_reanalysis_data\u001b[0;34m(var_IDs, extent, date_range, freq, num_processes, verbose, cache, cache_dir)\u001b[0m\n\u001b[1;32m    292\u001b[0m     \u001b[38;5;28;01mwith\u001b[39;00m multiprocessing\u001b[38;5;241m.\u001b[39mPool(num_processes) \u001b[38;5;28;01mas\u001b[39;00m pool:\n\u001b[1;32m    293\u001b[0m         partial_era5 \u001b[38;5;241m=\u001b[39m partial(\n\u001b[1;32m    294\u001b[0m             _get_era5_reanalysis_data_parallel,\n\u001b[1;32m    295\u001b[0m             var_IDs\u001b[38;5;241m=\u001b[39mvar_IDs,\n\u001b[0;32m   (...)\u001b[0m\n\u001b[1;32m    299\u001b[0m             cache_dir\u001b[38;5;241m=\u001b[39mcache_dir,\n\u001b[1;32m    300\u001b[0m         )\n\u001b[0;32m--> 302\u001b[0m         era5_das \u001b[38;5;241m=\u001b[39m \u001b[38;5;28mlist\u001b[39m(\n\u001b[1;32m    303\u001b[0m             tqdm\u001b[38;5;241m.\u001b[39mtqdm(\n\u001b[1;32m    304\u001b[0m                 pool\u001b[38;5;241m.\u001b[39mimap(partial_era5, date_ranges),\n\u001b[1;32m    305\u001b[0m                 total\u001b[38;5;241m=\u001b[39m\u001b[38;5;28mlen\u001b[39m(date_ranges),\n\u001b[1;32m    306\u001b[0m                 smoothing\u001b[38;5;241m=\u001b[39m\u001b[38;5;241m0\u001b[39m,\n\u001b[1;32m    307\u001b[0m                 disable\u001b[38;5;241m=\u001b[39m\u001b[38;5;129;01mnot\u001b[39;00m verbose,\n\u001b[1;32m    308\u001b[0m             )\n\u001b[1;32m    309\u001b[0m         )\n\u001b[1;32m    311\u001b[0m     era5_da \u001b[38;5;241m=\u001b[39m xr\u001b[38;5;241m.\u001b[39mconcat(era5_das, dim\u001b[38;5;241m=\u001b[39m\u001b[38;5;124m\"\u001b[39m\u001b[38;5;124mtime\u001b[39m\u001b[38;5;124m\"\u001b[39m)\n\u001b[1;32m    313\u001b[0m \u001b[38;5;28;01mif\u001b[39;00m verbose:\n",
      "File \u001b[0;32m~/miniforge3/envs/deepsensor/lib/python3.11/site-packages/tqdm/std.py:1181\u001b[0m, in \u001b[0;36mtqdm.__iter__\u001b[0;34m(self)\u001b[0m\n\u001b[1;32m   1178\u001b[0m time \u001b[38;5;241m=\u001b[39m \u001b[38;5;28mself\u001b[39m\u001b[38;5;241m.\u001b[39m_time\n\u001b[1;32m   1180\u001b[0m \u001b[38;5;28;01mtry\u001b[39;00m:\n\u001b[0;32m-> 1181\u001b[0m \u001b[43m    \u001b[49m\u001b[38;5;28;43;01mfor\u001b[39;49;00m\u001b[43m \u001b[49m\u001b[43mobj\u001b[49m\u001b[43m \u001b[49m\u001b[38;5;129;43;01min\u001b[39;49;00m\u001b[43m \u001b[49m\u001b[43miterable\u001b[49m\u001b[43m:\u001b[49m\n\u001b[1;32m   1182\u001b[0m \u001b[43m        \u001b[49m\u001b[38;5;28;43;01myield\u001b[39;49;00m\u001b[43m \u001b[49m\u001b[43mobj\u001b[49m\n\u001b[1;32m   1183\u001b[0m \u001b[43m        \u001b[49m\u001b[38;5;66;43;03m# Update and possibly print the progressbar.\u001b[39;49;00m\n\u001b[1;32m   1184\u001b[0m \u001b[43m        \u001b[49m\u001b[38;5;66;43;03m# Note: does not call self.update(1) for speed optimisation.\u001b[39;49;00m\n",
      "File \u001b[0;32m~/miniforge3/envs/deepsensor/lib/python3.11/multiprocessing/pool.py:861\u001b[0m, in \u001b[0;36mIMapIterator.next\u001b[0;34m(self, timeout)\u001b[0m\n\u001b[1;32m    859\u001b[0m     \u001b[38;5;28mself\u001b[39m\u001b[38;5;241m.\u001b[39m_pool \u001b[38;5;241m=\u001b[39m \u001b[38;5;28;01mNone\u001b[39;00m\n\u001b[1;32m    860\u001b[0m     \u001b[38;5;28;01mraise\u001b[39;00m \u001b[38;5;167;01mStopIteration\u001b[39;00m \u001b[38;5;28;01mfrom\u001b[39;00m \u001b[38;5;28;01mNone\u001b[39;00m\n\u001b[0;32m--> 861\u001b[0m \u001b[38;5;28;43mself\u001b[39;49m\u001b[38;5;241;43m.\u001b[39;49m\u001b[43m_cond\u001b[49m\u001b[38;5;241;43m.\u001b[39;49m\u001b[43mwait\u001b[49m\u001b[43m(\u001b[49m\u001b[43mtimeout\u001b[49m\u001b[43m)\u001b[49m\n\u001b[1;32m    862\u001b[0m \u001b[38;5;28;01mtry\u001b[39;00m:\n\u001b[1;32m    863\u001b[0m     item \u001b[38;5;241m=\u001b[39m \u001b[38;5;28mself\u001b[39m\u001b[38;5;241m.\u001b[39m_items\u001b[38;5;241m.\u001b[39mpopleft()\n",
      "File \u001b[0;32m~/miniforge3/envs/deepsensor/lib/python3.11/threading.py:327\u001b[0m, in \u001b[0;36mCondition.wait\u001b[0;34m(self, timeout)\u001b[0m\n\u001b[1;32m    325\u001b[0m \u001b[38;5;28;01mtry\u001b[39;00m:    \u001b[38;5;66;03m# restore state no matter what (e.g., KeyboardInterrupt)\u001b[39;00m\n\u001b[1;32m    326\u001b[0m     \u001b[38;5;28;01mif\u001b[39;00m timeout \u001b[38;5;129;01mis\u001b[39;00m \u001b[38;5;28;01mNone\u001b[39;00m:\n\u001b[0;32m--> 327\u001b[0m         \u001b[43mwaiter\u001b[49m\u001b[38;5;241;43m.\u001b[39;49m\u001b[43macquire\u001b[49m\u001b[43m(\u001b[49m\u001b[43m)\u001b[49m\n\u001b[1;32m    328\u001b[0m         gotit \u001b[38;5;241m=\u001b[39m \u001b[38;5;28;01mTrue\u001b[39;00m\n\u001b[1;32m    329\u001b[0m     \u001b[38;5;28;01melse\u001b[39;00m:\n",
      "\u001b[0;31mKeyboardInterrupt\u001b[0m: "
     ]
    }
   ],
   "source": [
    "era5_raw_ds = get_era5_reanalysis_data(\n",
    "    era5_var_IDs,\n",
    "    extent,\n",
    "    date_range=data_range,\n",
    "    cache=True,\n",
    "    cache_dir=cache_dir,\n",
    "    verbose=verbose_download,\n",
    "    num_processes=8,\n",
    ")\n",
    "lowres_aux_raw_ds = get_earthenv_auxiliary_data(\n",
    "    lowres_auxiliary_var_IDs,\n",
    "    extent,\n",
    "    \"100KM\",\n",
    "    cache=True,\n",
    "    cache_dir=cache_dir,\n",
    "    verbose=verbose_download,\n",
    ")\n",
    "land_mask_raw_ds = get_gldas_land_mask(\n",
    "    extent, cache=True, cache_dir=cache_dir, verbose=verbose_download\n",
    ")\n",
    "\n",
    "data_processor = DataProcessor(x1_name=\"lat\", x2_name=\"lon\")\n",
    "era5_ds = data_processor(era5_raw_ds)\n",
    "lowres_aux_ds, land_mask_ds = data_processor(\n",
    "    [lowres_aux_raw_ds, land_mask_raw_ds], method=\"min_max\"\n",
    ")\n",
    "\n",
    "dates = pd.date_range(era5_ds.time.values.min(), era5_ds.time.values.max(), freq=\"D\")\n",
    "doy_ds = construct_circ_time_ds(dates, freq=\"D\")\n",
    "lowres_aux_ds[\"cos_D\"] = doy_ds[\"cos_D\"]\n",
    "lowres_aux_ds[\"sin_D\"] = doy_ds[\"sin_D\"]"
   ]
  },
  {
   "cell_type": "code",
   "execution_count": 4,
   "metadata": {},
   "outputs": [],
   "source": [
    "set_gpu_default_device()"
   ]
  },
  {
   "cell_type": "markdown",
   "metadata": {},
   "source": [
    "## Initialise TaskLoader and ConvNP model"
   ]
  },
  {
   "cell_type": "code",
   "execution_count": 5,
   "metadata": {},
   "outputs": [
    {
     "name": "stdout",
     "output_type": "stream",
     "text": [
      "TaskLoader(3 context sets, 1 target sets)\n",
      "Context variable IDs: (('2m_temperature',), ('GLDAS_mask',), ('elevation', 'cos_D', 'sin_D'))\n",
      "Target variable IDs: (('2m_temperature',),)\n"
     ]
    }
   ],
   "source": [
    "task_loader = TaskLoader(\n",
    "    context=[era5_ds, land_mask_ds, lowres_aux_ds],\n",
    "    target=era5_ds,\n",
    ")\n",
    "task_loader.load_dask()\n",
    "print(task_loader)"
   ]
  },
  {
   "cell_type": "code",
   "execution_count": 6,
   "metadata": {},
   "outputs": [
    {
     "name": "stdout",
     "output_type": "stream",
     "text": [
      "dim_yc inferred from TaskLoader: (1, 1, 3)\n",
      "dim_yt inferred from TaskLoader: 1\n",
      "dim_aux_t inferred from TaskLoader: 0\n",
      "internal_density inferred from TaskLoader: 400\n",
      "encoder_scales inferred from TaskLoader: [0.0012499999720603228, 0.0012499999720603228, 0.00416666641831398]\n",
      "decoder_scale inferred from TaskLoader: 0.0025\n"
     ]
    }
   ],
   "source": [
    "# Set up model\n",
    "model = ConvNP(data_processor, task_loader, unet_channels=(32, 32, 32, 32, 32))"
   ]
  },
  {
   "cell_type": "markdown",
   "metadata": {},
   "source": [
    "## Define how Tasks are generated\n",
    "\n",
    "For the purpose of this notebook, we will use a random patchwise training strategy for our training tasks and a sliding window patch strategy for validation and testing to make sure we cover the entire region of interest.\n",
    "\n",
    "There are two possible arguments for patch_strategy: \n",
    "- `random`: where the centroid of the patches are randomly selected;\n",
    "- `sliding_window`: where the patch is first produced in the top-left corner, and the patch is convolved from left to right and top to bottom over the whole image. \n",
    "\n",
    "If no patching strategy is defined, the default is for no patching to take place during training or inference. \n",
    "\n",
    "Additional arguments to define when running patchwise training: \n",
    "- `patch_size`: In x1 and x2 coordinate. This is required for both patching stategies\n",
    "- `stride`: the distance in x1 and x2 between each patch. It is commonplace to use a stride size equal to half the patch size. This is only required when using `sliding_window`.\n",
    "- `num_sample_per_date`: the number of patches to generate when using the random patching strategy.  "
   ]
  },
  {
   "cell_type": "code",
   "execution_count": 9,
   "metadata": {},
   "outputs": [],
   "source": [
    "def gen_training_tasks(dates, progress=True):\n",
    "    tasks = []\n",
    "    for date in tqdm(dates, disable=not progress):\n",
    "        tasks_per_date = task_loader(\n",
    "            date,\n",
    "            context_sampling=[\"all\", \"all\", \"all\"],\n",
    "            target_sampling=\"all\",\n",
    "            patch_strategy=\"random\",\n",
    "            patch_size=(0.4, 0.4),\n",
    "            num_samples_per_date=2,\n",
    "        )\n",
    "        tasks.extend(tasks_per_date)\n",
    "    return tasks\n",
    "\n",
    "\n",
    "def gen_validation_tasks(dates, progress=True):\n",
    "    tasks = []\n",
    "    for date in tqdm(dates, disable=not progress):\n",
    "        tasks_per_date = task_loader(\n",
    "            date,\n",
    "            context_sampling=[\"all\", \"all\", \"all\"],\n",
    "            target_sampling=\"all\",\n",
    "            patch_strategy=\"sliding\",\n",
    "            patch_size=(0.5, 0.5),\n",
    "            stride=(0.25,0.25)\n",
    "        )\n",
    "        tasks.extend(tasks_per_date)\n",
    "    return tasks"
   ]
  },
  {
   "cell_type": "markdown",
   "metadata": {},
   "source": [
    "## Generate validation tasks for testing generalisation"
   ]
  },
  {
   "cell_type": "code",
   "execution_count": 10,
   "metadata": {},
   "outputs": [
    {
     "data": {
      "application/vnd.jupyter.widget-view+json": {
       "model_id": "3868acf15a394a5a9843d81fd2f970a6",
       "version_major": 2,
       "version_minor": 0
      },
      "text/plain": [
       "  0%|          | 0/183 [00:00<?, ?it/s]"
      ]
     },
     "metadata": {},
     "output_type": "display_data"
    }
   ],
   "source": [
    "val_dates = pd.date_range(val_range[0], val_range[1])[::date_subsample_factor]\n",
    "val_tasks = gen_validation_tasks(val_dates)"
   ]
  },
  {
   "cell_type": "markdown",
   "metadata": {},
   "source": [
    "## Training with the Trainer class"
   ]
  },
  {
   "cell_type": "code",
   "execution_count": 11,
   "metadata": {},
   "outputs": [],
   "source": [
    "def compute_val_rmse(model, val_tasks):\n",
    "    errors = []\n",
    "    target_var_ID = task_loader.target_var_IDs[0][0]  # assume 1st target set and 1D\n",
    "    for task in val_tasks:\n",
    "        mean = data_processor.map_array(model.mean(task), target_var_ID, unnorm=True)\n",
    "        true = data_processor.map_array(task[\"Y_t\"][0], target_var_ID, unnorm=True)\n",
    "        errors.extend(np.abs(mean - true))\n",
    "    return np.sqrt(np.mean(np.concatenate(errors) ** 2))"
   ]
  },
  {
   "cell_type": "code",
   "execution_count": 12,
   "metadata": {},
   "outputs": [
    {
     "data": {
      "application/vnd.jupyter.widget-view+json": {
       "model_id": "1db611f808a2479ca5d614a91c42a539",
       "version_major": 2,
       "version_minor": 0
      },
      "text/plain": [
       "  0%|          | 0/10 [00:00<?, ?it/s]"
      ]
     },
     "metadata": {},
     "output_type": "display_data"
    },
    {
     "data": {
      "application/vnd.jupyter.widget-view+json": {
       "model_id": "da34543edc144a289ff2a4379815b7a5",
       "version_major": 2,
       "version_minor": 0
      },
      "text/plain": [
       "  0%|          | 0/1644 [00:00<?, ?it/s]"
      ]
     },
     "metadata": {},
     "output_type": "display_data"
    },
    {
     "data": {
      "application/vnd.jupyter.widget-view+json": {
       "model_id": "336dbe3c604147d79cf9eba5be2c9194",
       "version_major": 2,
       "version_minor": 0
      },
      "text/plain": [
       "  0%|          | 0/1644 [00:00<?, ?it/s]"
      ]
     },
     "metadata": {},
     "output_type": "display_data"
    },
    {
     "data": {
      "application/vnd.jupyter.widget-view+json": {
       "model_id": "18e9148d828b422c88a2a6ab37e411d9",
       "version_major": 2,
       "version_minor": 0
      },
      "text/plain": [
       "  0%|          | 0/1644 [00:00<?, ?it/s]"
      ]
     },
     "metadata": {},
     "output_type": "display_data"
    },
    {
     "data": {
      "application/vnd.jupyter.widget-view+json": {
       "model_id": "66768055d1a34059b28519fbe85e5ebd",
       "version_major": 2,
       "version_minor": 0
      },
      "text/plain": [
       "  0%|          | 0/1644 [00:00<?, ?it/s]"
      ]
     },
     "metadata": {},
     "output_type": "display_data"
    },
    {
     "data": {
      "application/vnd.jupyter.widget-view+json": {
       "model_id": "ac2ee5ddd25249e7b864e4e662d8f74a",
       "version_major": 2,
       "version_minor": 0
      },
      "text/plain": [
       "  0%|          | 0/1644 [00:00<?, ?it/s]"
      ]
     },
     "metadata": {},
     "output_type": "display_data"
    },
    {
     "data": {
      "application/vnd.jupyter.widget-view+json": {
       "model_id": "77232a84b5174f38a35302fc6083b042",
       "version_major": 2,
       "version_minor": 0
      },
      "text/plain": [
       "  0%|          | 0/1644 [00:00<?, ?it/s]"
      ]
     },
     "metadata": {},
     "output_type": "display_data"
    },
    {
     "data": {
      "application/vnd.jupyter.widget-view+json": {
       "model_id": "ae2e4ed7558c429eaca31da94f801788",
       "version_major": 2,
       "version_minor": 0
      },
      "text/plain": [
       "  0%|          | 0/1644 [00:00<?, ?it/s]"
      ]
     },
     "metadata": {},
     "output_type": "display_data"
    },
    {
     "data": {
      "application/vnd.jupyter.widget-view+json": {
       "model_id": "e91e027ddf6747488ac5b2a8b7ac1080",
       "version_major": 2,
       "version_minor": 0
      },
      "text/plain": [
       "  0%|          | 0/1644 [00:00<?, ?it/s]"
      ]
     },
     "metadata": {},
     "output_type": "display_data"
    },
    {
     "data": {
      "application/vnd.jupyter.widget-view+json": {
       "model_id": "b042cb87b415431aa9f0f4ed0aea11a8",
       "version_major": 2,
       "version_minor": 0
      },
      "text/plain": [
       "  0%|          | 0/1644 [00:00<?, ?it/s]"
      ]
     },
     "metadata": {},
     "output_type": "display_data"
    },
    {
     "data": {
      "application/vnd.jupyter.widget-view+json": {
       "model_id": "ed9d43152ec54fd4af58e8d0d4b94d40",
       "version_major": 2,
       "version_minor": 0
      },
      "text/plain": [
       "  0%|          | 0/1644 [00:00<?, ?it/s]"
      ]
     },
     "metadata": {},
     "output_type": "display_data"
    }
   ],
   "source": [
    "num_epochs = 10\n",
    "losses = []\n",
    "val_rmses = []\n",
    "\n",
    "# Train model\n",
    "val_rmse_best = np.inf\n",
    "trainer = Trainer(model, lr=5e-5)\n",
    "for epoch in tqdm(range(num_epochs)):\n",
    "    train_tasks = gen_training_tasks(pd.date_range(train_range[0], train_range[1])[::date_subsample_factor], progress=True)\n",
    "    batch_losses = trainer(train_tasks)\n",
    "    losses.append(np.mean(batch_losses))\n",
    "    val_rmses.append(compute_val_rmse(model, val_tasks))\n",
    "    if val_rmses[-1] < val_rmse_best:\n",
    "        val_rmse_best = val_rmses[-1]\n",
    "        model.save(deepsensor_folder)"
   ]
  },
  {
   "cell_type": "code",
   "execution_count": 13,
   "metadata": {},
   "outputs": [
    {
     "data": {
      "image/png": "[encoded data removed]",
      "text/plain": [
       "<Figure size 1200x400 with 2 Axes>"
      ]
     },
     "metadata": {},
     "output_type": "display_data"
    }
   ],
   "source": [
    "fig, axes = plt.subplots(1, 2, figsize=(12, 4))\n",
    "axes[0].plot(losses)\n",
    "axes[1].plot(val_rmses)\n",
    "_ = axes[0].set_xlabel(\"Epoch\")\n",
    "_ = axes[1].set_xlabel(\"Epoch\")\n",
    "_ = axes[0].set_title(\"Training loss\")\n",
    "_ = axes[1].set_title(\"Validation RMSE\")"
   ]
  },
  {
   "cell_type": "markdown",
   "metadata": {},
   "source": [
    "## Patching during inference"
   ]
  },
  {
   "cell_type": "markdown",
   "metadata": {},
   "source": [
    "In many circumstances, patching is only required during training. If required during inference, use the `model.predict_patch()` function rather than `model.predict()`. \n",
    "\n",
    "Firstly, make the test tasks, defining the patch and stride size. The `sliding_window` strategy is the only strategy that can be used during inference. \n",
    "You must also pass in the `data_processor` when calling `model.predict_patch()`, alongside the `test_task` and `X_t`.\n",
    "\n",
    "The `patch_predict()` function stitches the patchwise predictions together, to generate a prediction with the same original extent as X_t. Currently patches are stiched together by clipping the overlapping edges of the patches and concatenating them. We welcome contributions to add additional stitching strategies into the DeepSensor package. \n",
    "\n",
    "The output prediction object is identical to the object generated when running `model.predict()`. "
   ]
  },
  {
   "cell_type": "code",
   "execution_count": 15,
   "metadata": {},
   "outputs": [],
   "source": [
    "### Make prediction ###\n",
    "test_date =\"2019-01-01\"\n",
    "test_task = task_loader(test_date, context_sampling=\"all\", target_sampling=\"all\",\n",
    "                        patch_strategy=\"sliding\", patch_size=(0.5, 0.5), stride=(0.25, 0.25))\n",
    "prediction = model.predict_patch(test_task, X_t=era5_raw_ds, data_processor = data_processor)\n"
   ]
  }
 ],
 "metadata": {
  "kernelspec": {
   "display_name": "deepsensor",
   "language": "python",
   "name": "python3"
  },
  "language_info": {
   "codemirror_mode": {
    "name": "ipython",
    "version": 3
   },
   "file_extension": ".py",
   "mimetype": "text/x-python",
   "name": "python",
   "nbconvert_exporter": "python",
   "pygments_lexer": "ipython3",
   "version": "3.11.10"
  }
 },
 "nbformat": 4,
 "nbformat_minor": 2
}
